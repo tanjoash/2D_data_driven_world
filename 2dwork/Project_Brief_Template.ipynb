{
 "cells": [
  {
   "cell_type": "markdown",
   "metadata": {
    "nbgrader": {
     "grade": false,
     "locked": true,
     "solution": false
    }
   },
   "source": [
    "# 2D Project"
   ]
  },
  {
   "cell_type": "markdown",
   "metadata": {},
   "source": [
    "## Student's Name:\n",
    "- Boey Sze Min, Jeanelle (1006037)\n",
    "- Joash Tan Jia Le (1005862)\n",
    "- Keith Chua Dian-Xun (1005880)\n",
    "- Wong Wei Jin Justin (1006001)"
   ]
  },
  {
   "cell_type": "markdown",
   "metadata": {},
   "source": [
    "## Contributions:\n",
    "- Boey Sze Min, Jeanelle (1006037)\n",
    "    - sdiifs\n",
    "- Joash Tan Jia Le (1005862)\n",
    "- Keith Chua Dian-Xun (1005880)\n",
    "- Wong Wei Jin Justin (1006001)\n",
    "\n",
    "# TO DO"
   ]
  },
  {
   "cell_type": "markdown",
   "metadata": {},
   "source": [
    "### Overview About the Problem\n",
    "\n",
    "Describe here the problem you are trying to solve."
   ]
  },
  {
   "cell_type": "markdown",
   "metadata": {},
   "source": [
    "## What is Food Security? \n",
    "\n",
    "According to the United Nations' (UN) Committee on World Food Security, food security is defined as people, \"at all times\", having \"Physical, Social, and Economic\" access to \"sufficient, safe and nutritious food\" that meets their \"dietary needs for an active and healthy life\" (FAO, 1996). \n",
    "\n",
    " \n",
    "\n",
    "## Problem Statement \n",
    "\n",
    "In line with the definition of Food security provided by UN, we have decided to find out how physical, social, and economic factors have affected the dietary requirements for an active and healthy lifestyle of the population of each country. As a result, we have come up with the following problem statement: “How might we predict whether the dietary needs for individuals are met for each country, considering a country’s economy, and its citizen’s social and physical environment?” "
   ]
  },
  {
   "cell_type": "markdown",
   "metadata": {},
   "source": [
    "### Datasets\n",
    "\n",
    "We have obtained the following raw data for all the countries over a few years:\n",
    "1. GDP per capita, adjusted for PPP (USD):   \n",
    "   Link: https://data.worldbank.org/indicator/NY.GDP.PCAP.PP.CD   \n",
    "   CSV file name: \"DDW_GDP per capita adjusted.csv\"   \n",
    "\n",
    "2. Amount of agricultural land allocated per countries ($km^{2}$):   \n",
    "   Link: https://data.worldbank.org/indicator/AG.LND.AGRI.K2?name_desc=false    \n",
    "   CSV file name: \"DDW_Agricultural Land.csv\"   \n",
    "\n",
    "3. Percentage of population with access to basic drinking water (%):   \n",
    "   Link: https://www.kaggle.com/datasets/utkarshxy/who-worldhealth-statistics-2020-complete?select=basicDrinkingWaterServices.csv    \n",
    "   CSV file name: \"DDW_Basic Water Drinking Services.csv\"   \n",
    "\n",
    "4. $CO_{2}$ emitted in each country (million metric tonnes):   \n",
    "   Link: https://github.com/owid/co2-data   \n",
    "   CSV file name: \"DDW_CO2.csv\"   \n",
    "\n",
    "5. Percentage of population with eating disorder (%):    \n",
    "   Link: https://ourworldindata.org/grapher/share-with-an-eating-disorder    \n",
    "   CSV file name: \"DDW_Eating Disorder.csv\"   \n",
    "\n",
    "6. Number of people employed in agriculture, forestry and fisheries:   \n",
    "   Link: https://www.fao.org/faostat/en/#data/OEA    \n",
    "   CSV file name: \"DDW_Employment In Agriculture.csv\"   \n",
    "\n",
    "7. Population of each country:   \n",
    "   Link: https://github.com/owid/co2-data    \n",
    "   CSV file name: \"DDW_Population.csv\"   \n",
    "\n",
    "8. Daily calories supplied (kcal/capita day):   \n",
    "   Link: https://ourworldindata.org/food-supply   \n",
    "   CSV file name: \"DDW_Food Supply.csv\"   \n",
    "\n",
    "9. Minimum dietary calories requirement (kcal/capita day):   \n",
    "   Link: https://www.fao.org/faostat/en/#data/FS   \n",
    "   CSV file name: \"DDW_Min Cal Intake.csv\"   \n",
    "\n",
    "10. Fat supplied (g/capita day):   \n",
    "   Link: https://ourworldindata.org/food-supply   \n",
    "   CSV file name: \"DDW_Fat and Protein Supply.csv\"   \n",
    "\n",
    "11. Protein supplied (g/capita day):   \n",
    "   Link: https://ourworldindata.org/food-supply   \n",
    "   CSV file name: \"DDW_Fat and Protein Supply.csv\"   \n",
    "\n",
    "12. Percent of population malnourished:     \n",
    "   Link: https://ourworldindata.org/hunger-and-undernourishment#:~:text=across%20the%20world.-,Summary,million%20people%20globally%20are%20undernourished   \n",
    "   CSV file name: \"DDW_Prevalence of Undernourishment.csv\"   \n",
    "\n",
    "The code below extracts the relevant data from each file and processses it to match our 6 factors.\n",
    "\n",
    "For **model 1**, the 6 factors that we are using to predict food security are:\n",
    "1. GDP per capita, adjusted for PPP (USD)\n",
    "2. Agricultural land per capita ($km^{2}$ per capita)\n",
    "3. Percentage of population with basic water service (%)\n",
    "4. Percentage of population with eating disorder (%)\n",
    "5. Percentage of population employed in agriculture forestry fishery (%)\n",
    "6. $CO_{2}$ emitted per agricultural land area (kg/$m^{2}$)   \n",
    "\n",
    "For our dependent value we will be calculating whether the calorie supplied per capita per day is greater or less than the minimum calories required per capita per day, we will be naming this our _**Y Ratio**_.\n",
    "$$\n",
    " \\text{Y Ratio} = \\frac{\\text{Daily calories supplied (kcal/capita day)}}{\\text{Minimum calories required (kcal/capita day)}}\n",
    "$$\n",
    "\n",
    "If _Y ratio_ ${<}$ 1, we say that the daily calories supplied is not sufficient to meet the minimum calories required.   \n",
    "If _Y ratio_ ${>}$ 1, we say that the daily calories supplied is sufficient to meet the minimum calories required.\n",
    "\n"
   ]
  },
  {
   "cell_type": "code",
   "execution_count": 1331,
   "metadata": {
    "collapsed": true,
    "jupyter": {
     "outputs_hidden": true
    }
   },
   "outputs": [],
   "source": [
    "# put Python code to read and describe your data"
   ]
  },
  {
   "cell_type": "markdown",
   "metadata": {},
   "source": [
    "## Imports"
   ]
  },
  {
   "cell_type": "code",
   "execution_count": 1332,
   "metadata": {},
   "outputs": [],
   "source": [
    "# import libraries\n",
    "import pandas as pd\n",
    "import seaborn as sns\n",
    "import matplotlib.pyplot as plt\n",
    "import numpy as np"
   ]
  },
  {
   "cell_type": "markdown",
   "metadata": {},
   "source": [
    "## $1^{st}$ Model"
   ]
  },
  {
   "cell_type": "markdown",
   "metadata": {},
   "source": [
    "### Cleaning the data for $1^{st}$ model"
   ]
  },
  {
   "cell_type": "markdown",
   "metadata": {},
   "source": [
    "- Store the specified year that we want from the csv as get_year."
   ]
  },
  {
   "cell_type": "code",
   "execution_count": 1333,
   "metadata": {},
   "outputs": [],
   "source": [
    "# set the year to extract\n",
    "get_year = 2017"
   ]
  },
  {
   "cell_type": "markdown",
   "metadata": {},
   "source": [
    "Extracting the code requires us to look at the csv beforehand and understand how the csv is structured.   \n",
    "Cleaning up the csv and obtaining what we wanted follows the folloiwng similar steps.\n",
    "1. Read the csv\n",
    "2. drop NaN values\n",
    "3. Extract values from the specified year in _get_year_\n",
    "4. Extract values that we want\n",
    "5. Rename the columns for easy understanding\n",
    "6. Reset the index to 0\n",
    "7. Find unique countries for use later\n",
    "8. Print the dataframe for us to get a preview"
   ]
  },
  {
   "cell_type": "markdown",
   "metadata": {},
   "source": [
    "#### Extract calories supplied data for the specified year"
   ]
  },
  {
   "cell_type": "code",
   "execution_count": 1334,
   "metadata": {},
   "outputs": [],
   "source": [
    "# read calories supply csv\n",
    "df_calories = pd.read_csv(\"DDW_food Supply.csv\")\n",
    "# extract values only when item is \"Grand Total\"\n",
    "df_calories = df_calories[(df_calories[\"Item\"] == \"Grand Total\")]\n",
    "# extract specified year values\n",
    "df_calories = df_calories[(df_calories[\"Year\"]==get_year)]\n",
    "# extract year, country and calories supply\n",
    "df_calories = df_calories[[\"Year\", \"Area\", \"Value\"]]\n",
    "df_calories = df_calories.rename(columns = {\"Area\": \"Country\", \"Value\": \"Calories_supply\"})\n",
    "# set index from 0\n",
    "df_calories = df_calories.reset_index(drop=True)\n",
    "# find unique countries in calories supply data\n",
    "df_calories_countries = df_calories.Country.unique()\n",
    "# print dataframe\n",
    "## df_calories"
   ]
  },
  {
   "cell_type": "markdown",
   "metadata": {},
   "source": [
    "#### Extract minimum calorie intake required data for the specified year"
   ]
  },
  {
   "cell_type": "code",
   "execution_count": 1335,
   "metadata": {},
   "outputs": [],
   "source": [
    "# read minimum calorie intake csv\n",
    "df_min_cal = pd.read_csv(\"DDW_Min Cal Intake.csv\")\n",
    "# extract values that are not missing\n",
    "df_min_cal = df_min_cal[df_min_cal[\"Value\"].notna()]\n",
    "# extract specified year values\n",
    "df_min_cal = df_min_cal[(df_min_cal[\"Year\"]==get_year)]\n",
    "# extract year, country and values\n",
    "df_min_cal = df_min_cal[[\"Year\", \"Area\", \"Value\"]]\n",
    "df_min_cal = df_min_cal.rename(columns = {\"Area\": \"Country\", \"Value\":\"Mininum_calorie_intake\"})\n",
    "# set index from 0\n",
    "df_min_cal = df_min_cal.reset_index(drop=True)\n",
    "# find unique countries in miniumum calorie intake required data\n",
    "df_min_cal_countries = df_min_cal.Country.unique()\n",
    "# print dataframe\n",
    "## df_min_cal"
   ]
  },
  {
   "cell_type": "markdown",
   "metadata": {},
   "source": [
    "#### Extract GDP, adjusted for PPP, per capita data for the specified year"
   ]
  },
  {
   "cell_type": "code",
   "execution_count": 1336,
   "metadata": {},
   "outputs": [],
   "source": [
    "# read GDP, adjusted for PPP, per capita csv\n",
    "df_GDP = pd.read_csv(\"DDW_GDP per capita adjusted.csv\")\n",
    "# extract values that are not missing\n",
    "df_GDP = df_GDP[(df_GDP[\"Value\"].notna())]\n",
    "# extract specified year values\n",
    "df_GDP = df_GDP[(df_GDP[\"Year\"]==get_year)]\n",
    "# extract year, country and values\n",
    "df_GDP = df_GDP[[\"Year\",\"Area\",\"Value\"]]\n",
    "df_GDP = df_GDP.rename(columns = {\"Area\": \"Country\", \"Value\":\"GDP\"})\n",
    "# set index from 0\n",
    "df_GDP = df_GDP.reset_index(drop=True)\n",
    "# find unique countries in GDP per capita data\n",
    "df_GDP_countries = df_GDP.Country.unique()\n",
    "# print data frame\n",
    "## df_GDP"
   ]
  },
  {
   "cell_type": "markdown",
   "metadata": {},
   "source": [
    "#### Extract total population data for the specified year"
   ]
  },
  {
   "cell_type": "code",
   "execution_count": 1337,
   "metadata": {},
   "outputs": [],
   "source": [
    "# read total population employed csv\n",
    "df_pop = pd.read_csv(\"DDW_Population.csv\")\n",
    "# extract specified year values\n",
    "df_pop = df_pop[(df_pop[\"year\"]==get_year)]\n",
    "# extract values that are not missing\n",
    "df_pop = df_pop[df_pop[\"population\"].notna()]\n",
    "# extract year, country and population value\n",
    "df_pop = df_pop[[\"year\", \"country\", \"population\"]]\n",
    "df_pop = df_pop.rename(columns = {\"year\": \"Year\", \"country\": \"Country\", \"population\":\"Population\"})\n",
    "# set index from 0\n",
    "df_pop = df_pop.reset_index(drop=True)\n",
    "# find unique countries in total population data\n",
    "df_pop_coutries = df_pop.Country.unique()\n",
    "# print dataframe\n",
    "## df_pop"
   ]
  },
  {
   "cell_type": "markdown",
   "metadata": {},
   "source": [
    "#### Extract land area used for agriculture data for the specified year"
   ]
  },
  {
   "cell_type": "code",
   "execution_count": 1338,
   "metadata": {},
   "outputs": [],
   "source": [
    "# read agricultural land csv\n",
    "df_agri = pd.read_csv(\"DDW_Agricultural Land.csv\")\n",
    "# extract countries and specified year\n",
    "df_agri = df_agri[[\"Country Name\", str(get_year)]]\n",
    "# remove rows with values missing\n",
    "df_agri = df_agri.dropna()\n",
    "# insert new column at index 0 with name \"Year\" and value: get_year\n",
    "df_agri.insert(0, \"Year\", get_year)\n",
    "df_agri = df_agri.rename(columns = {str(get_year): \"Agri_land\", \"Country Name\": \"Country\"})\n",
    "# find unique countries in agricultural land\n",
    "df_agri_countries = df_agri.Country.unique()\n",
    "# print dataframe\n",
    "## df_agri"
   ]
  },
  {
   "cell_type": "markdown",
   "metadata": {},
   "source": [
    "#### Extract $CO_{2}$ (in million metric tonnes) data for the specified year"
   ]
  },
  {
   "cell_type": "code",
   "execution_count": 1339,
   "metadata": {},
   "outputs": [],
   "source": [
    "# read CO2 csv\n",
    "df_co2 = pd.read_csv(\"DDW_CO2.csv\")\n",
    "# extract specified year values\n",
    "df_co2 = df_co2[(df_co2[\"year\"]==get_year)]\n",
    "# extract values that are not missing\n",
    "df_co2 = df_co2[df_co2[\"co2\"].notna()]\n",
    "# extract year, country and values\n",
    "df_co2 = df_co2[[\"year\",\"country\",\"co2\"]]\n",
    "df_co2 = df_co2.rename(columns = {\"year\": \"Year\", \"country\": \"Country\", \"co2\": \"CO2\"})\n",
    "# set index from 0\n",
    "df_co2 = df_co2.reset_index(drop=True)\n",
    "# find unique countries in total co2 data\n",
    "df_co2_countries = df_co2.Country.unique()\n",
    "# print dataframe\n",
    "## df_co2"
   ]
  },
  {
   "cell_type": "markdown",
   "metadata": {},
   "source": [
    "#### Extract basic water drinking services data for the specified year"
   ]
  },
  {
   "cell_type": "code",
   "execution_count": 1340,
   "metadata": {},
   "outputs": [],
   "source": [
    "# read Basic Water Drinking Services csv\n",
    "df_water = pd.read_csv(\"DDW_Basic Water Drinking Services.csv\")\n",
    "# extract values that are not missing\n",
    "df_water = df_water[df_water[\"Value\"].notna()]\n",
    "# extract specified year values\n",
    "df_water = df_water[(df_water[\"Year\"]==get_year)]\n",
    "# extract year, country and values\n",
    "df_water = df_water[[\"Year\", \"Area\", \"Value\"]]\n",
    "df_water = df_water.rename(columns = {\"Area\": \"Country\", \"Value\": \"Basic_water\"})\n",
    "# set index from 0\n",
    "df_water = df_water.reset_index(drop=True)\n",
    "# find unique countries in total water data\n",
    "df_water_countries = df_water.Country.unique()\n",
    "# print dataframe\n",
    "## df_water"
   ]
  },
  {
   "cell_type": "markdown",
   "metadata": {},
   "source": [
    "#### Extract Eating Disorder data for the specified year"
   ]
  },
  {
   "cell_type": "code",
   "execution_count": 1341,
   "metadata": {},
   "outputs": [],
   "source": [
    "# read eating disorder csv\n",
    "df_disorder = pd.read_csv(\"DDW_Eating Disorder.csv\")\n",
    "# extract values that are not missing\n",
    "df_disorder = df_disorder[df_disorder[\"Prevalence - Eating disorders - Sex: Both - Age: Age-standardized (Percent)\"].notna()]\n",
    "df_disorder = df_disorder.rename(columns = {\"Entity\": \"Country\", \"Prevalence - Eating disorders - Sex: Both - Age: Age-standardized (Percent)\":\"Prevalence\"})\n",
    "# extract specified year values\n",
    "df_disorder = df_disorder[(df_disorder[\"Year\"]==get_year)]\n",
    "# extract year, country and values\n",
    "df_disorder = df_disorder[[\"Year\", \"Country\", \"Prevalence\"]]\n",
    "df_disorder = df_disorder.rename(columns = {\"Prevalence\": \"Eating_disorder\"})\n",
    "# set index from 0\n",
    "df_disorder = df_disorder.reset_index(drop=True)\n",
    "# find unique countries in eating disorder data\n",
    "df_disorder_countries = df_disorder.Country.unique()\n",
    "# print dataframe\n",
    "## df_disorder"
   ]
  },
  {
   "cell_type": "markdown",
   "metadata": {},
   "source": [
    "#### Extract number of people employed in agriculture data for the specified year"
   ]
  },
  {
   "cell_type": "code",
   "execution_count": 1342,
   "metadata": {},
   "outputs": [],
   "source": [
    "# read employment csv\n",
    "df_employment = pd.read_csv(\"DDW_Employment In Agriculture.csv\")\n",
    "# extract values that are not missing\n",
    "df_employment = df_employment[df_employment[\"Value\"].notna()]\n",
    "# extract specified year values\n",
    "df_employment = df_employment[(df_employment[\"Year\"]==get_year)]\n",
    "# extract year, country and values\n",
    "df_employment = df_employment[[\"Year\", \"Area\", \"Value\"]]\n",
    "# multiply by 1000 to find actual number employed (units was in 1000 people)\n",
    "df_employment[\"Value\"] = df_employment[\"Value\"]*1000\n",
    "df_employment = df_employment.rename(columns = {\"Area\": \"Country\", \"Value\":\"Employed_num\"})\n",
    "# set index from 0\n",
    "df_employment = df_employment.reset_index(drop=True)\n",
    "# find unique countries in eating disorder data\n",
    "df_employment_countries = df_employment.Country.unique()\n",
    "# print dataframe\n",
    "## df_employment"
   ]
  },
  {
   "cell_type": "markdown",
   "metadata": {},
   "source": [
    "#### Create list of common countries\n",
    "\n",
    "Find the countries that we have all the data for as we do not want to use countries with missing values."
   ]
  },
  {
   "cell_type": "code",
   "execution_count": 1343,
   "metadata": {},
   "outputs": [
    {
     "name": "stdout",
     "output_type": "stream",
     "text": [
      "Common Countries ['Netherlands', 'Costa Rica', 'France', 'Ireland', 'Algeria', 'Georgia', 'Kuwait', 'Slovenia', 'Peru', 'Belarus', 'Portugal', 'Uzbekistan', 'Togo', 'Seychelles', 'Nepal', 'Jordan', 'Uganda', 'Iceland', 'Afghanistan', 'Estonia', 'Denmark', 'Australia', 'Jamaica', 'Belgium', 'Mauritania', 'Cyprus', 'Luxembourg', 'Azerbaijan', 'Canada', 'Samoa', 'Czechia', 'Lithuania', 'El Salvador', 'Dominican Republic', 'Armenia', 'Austria', 'Finland', 'Spain', 'Kazakhstan', 'Mexico', 'Uruguay', 'Rwanda', 'Djibouti', 'Japan', 'South Africa', 'Tunisia', 'Ukraine', 'Switzerland', 'New Zealand', 'Colombia', 'Romania', 'Ghana', 'Norway', 'Hungary', 'Burundi', 'Thailand', 'Barbados', 'Israel', 'Sri Lanka', 'Malta', 'Honduras', 'Serbia', 'Cambodia', 'Latvia', 'Sweden', 'Guatemala', 'Belize', 'Chile', 'Bulgaria', 'Philippines', 'Malaysia', 'Mauritius', 'Mongolia', 'Panama', 'Bangladesh', 'United Arab Emirates', 'Germany', 'Albania', 'Italy', 'Ecuador', 'Mali', 'Myanmar', 'Greece', 'Brazil', 'Indonesia', 'Paraguay', 'Bosnia and Herzegovina', 'Poland', 'North Macedonia', 'Montenegro'] \n",
      " Length 90\n"
     ]
    }
   ],
   "source": [
    "# cc represent common countries\n",
    "set1 = set(df_calories_countries)\n",
    "set2 = set(df_min_cal_countries)\n",
    "set3 = set(df_GDP_countries)\n",
    "set4 = set(df_pop_coutries)\n",
    "set5 = set(df_agri_countries)\n",
    "set6 = set(df_co2_countries)\n",
    "set7 = set(df_water_countries)\n",
    "set8 = set(df_disorder_countries)\n",
    "set9 = set(df_employment_countries)\n",
    "\n",
    "cc1 = list(set1 & set2 & set3 & set4 & set5 & set6 & set7 & set8 & set9)\n",
    "print(\"Common Countries\", cc1, \"\\n\", \"Length\", len(cc1))"
   ]
  },
  {
   "cell_type": "markdown",
   "metadata": {},
   "source": [
    "#### Calculating and Combining our dataframes according to our combined countries\n",
    "\n",
    "We will start by calculating the necessary dependent values first before we fully combine."
   ]
  },
  {
   "cell_type": "markdown",
   "metadata": {},
   "source": [
    "#### Calculate Y ratio \n",
    "$$\n",
    "\\frac{\\text{Daily calories supplied (kcal/capita day)}}{\\text{Minimum calories required (kcal/capita day)}}\n",
    "$$\n"
   ]
  },
  {
   "cell_type": "code",
   "execution_count": 1344,
   "metadata": {},
   "outputs": [],
   "source": [
    "# extract values from countries in combined countries list\n",
    "df_calories_cc = df_calories[df_calories[\"Country\"].isin(cc1)]\n",
    "df_min_cal_cc = df_min_cal[df_min_cal[\"Country\"].isin(cc1)]\n",
    "\n",
    "df_y_ratio = df_calories_cc.copy()\n",
    "# extract minimum calorie value\n",
    "df_y_ratio[\"Mininum_calorie_intake\"] = list(df_min_cal_cc[\"Mininum_calorie_intake\"])\n",
    "# calculate Y ratio based on stated equation\n",
    "df_y_ratio[\"y_ratio\"] = df_y_ratio[\"Calories_supply\"]/df_y_ratio[\"Mininum_calorie_intake\"]\n",
    "# set index from 0\n",
    "df_y_ratio = df_y_ratio.reset_index(drop=True)\n",
    "# print dataframe\n",
    "## df_y_ratio"
   ]
  },
  {
   "cell_type": "markdown",
   "metadata": {},
   "source": [
    "#### Calculate Agriculture Land per capita ($\\textrm{m}^2$ per capita)"
   ]
  },
  {
   "cell_type": "code",
   "execution_count": 1345,
   "metadata": {},
   "outputs": [],
   "source": [
    "# extract values from countries in combined countries list\n",
    "df_agri_cc = df_agri[df_agri[\"Country\"].isin(cc1)]\n",
    "df_pop_cc = df_pop[df_pop[\"Country\"].isin(cc1)]\n",
    "\n",
    "df_agri_pop = df_agri_cc.copy()\n",
    "# extract population value\n",
    "df_agri_pop[\"Total_population\"] = list(df_pop_cc[\"Population\"])\n",
    "# calculate agriculture land per capita, multiply by 1,000,000 to convert km^2 to m^2\n",
    "df_agri_pop[\"Agri_land_cap\"] = (df_agri_pop[\"Agri_land\"]/df_agri_pop[\"Total_population\"])*1000000\n",
    "# set index from 0\n",
    "df_agri_pop = df_agri_pop.reset_index(drop=True)\n",
    "# print dataframe\n",
    "## df_agri_pop"
   ]
  },
  {
   "cell_type": "markdown",
   "metadata": {},
   "source": [
    "#### Calculate percentage of population employed in the agriculture industry (%)"
   ]
  },
  {
   "cell_type": "code",
   "execution_count": 1346,
   "metadata": {},
   "outputs": [],
   "source": [
    "# extract values from countries in combined countries list\n",
    "df_employment_cc = df_employment[df_employment[\"Country\"].isin(cc1)]\n",
    "df_pop_cc = df_pop[df_pop[\"Country\"].isin(cc1)]\n",
    "\n",
    "\n",
    "df_percent_employed = df_employment_cc.copy()\n",
    "# extract population value\n",
    "df_percent_employed[\"Total_population\"] = list(df_pop_cc[\"Population\"])\n",
    "# calculate percent employed; (employed number/total population) for each country\n",
    "df_percent_employed[\"Employed_%\"] = (df_percent_employed[\"Employed_num\"]/df_percent_employed[\"Total_population\"])*100\n",
    "# set index from 0\n",
    "df_percent_employed = df_percent_employed.reset_index(drop=True)\n",
    "# print dataframe\n",
    "## df_percent_employed"
   ]
  },
  {
   "cell_type": "markdown",
   "metadata": {},
   "source": [
    "#### Calculate $CO_{2}$ per agricultural land (kg per $m^{2}$)"
   ]
  },
  {
   "cell_type": "code",
   "execution_count": 1347,
   "metadata": {},
   "outputs": [],
   "source": [
    "# extract values from countries in combined countries list\n",
    "df_co2_cc = df_co2[df_co2[\"Country\"].isin(cc1)]\n",
    "df_agri_cc = df_agri[df_agri[\"Country\"].isin(cc1)]\n",
    "\n",
    "\n",
    "df_co2_land = df_co2_cc.copy()\n",
    "# extract Agricultural land in km^2\n",
    "df_co2_land[\"Agri_land\"] = list(df_agri_cc[\"Agri_land\"])\n",
    "# calculate CO2 per agricultral land; CO2 in MMT, 1 MMT = 1,000,000,000 kg\n",
    "# 1 km^2 = 1,000,000 m^2; result in kg per m^2\n",
    "df_co2_land[\"CO2_agri\"] = (df_co2_land[\"CO2\"]/df_co2_land[\"Agri_land\"])*1000\n",
    "# set index from 0\n",
    "df_co2_land = df_co2_land.reset_index(drop=True)\n",
    "# print dataframe\n",
    "## df_co2_land"
   ]
  },
  {
   "cell_type": "markdown",
   "metadata": {},
   "source": [
    "#### Extracting the rest of the dataframes needed by countries that are within the combined countries list"
   ]
  },
  {
   "cell_type": "code",
   "execution_count": 1348,
   "metadata": {},
   "outputs": [],
   "source": [
    "# extract GDP value from countries in combined countries list\n",
    "df_GDP_cc = df_GDP[df_GDP[\"Country\"].isin(cc1)]\n",
    "# set index from 0\n",
    "df_GDP_cc = df_GDP_cc.reset_index(drop=True)\n",
    "\n",
    "# extract water value from countries in combined countries list\n",
    "df_water_cc = df_water[df_water[\"Country\"].isin(cc1)]\n",
    "# set index from 0\n",
    "df_water_cc = df_water_cc.reset_index(drop=True)\n",
    "\n",
    "# extract eating disorder value from countries in combined countries list\n",
    "df_disorder_cc = df_disorder[df_disorder[\"Country\"].isin(cc1)]\n",
    "# set index from 0\n",
    "df_disorder_cc = df_disorder_cc.reset_index(drop=True)\n",
    "\n",
    "# print dataframe to check if need be\n",
    "# df_GDP_cc\n",
    "# df_water_cc\n",
    "# df_disorder_cc"
   ]
  },
  {
   "cell_type": "markdown",
   "metadata": {},
   "source": [
    "#### Combining all the variables into one dataframe"
   ]
  },
  {
   "cell_type": "code",
   "execution_count": 1349,
   "metadata": {},
   "outputs": [],
   "source": [
    "# add country and Y ratio column\n",
    "dfyears_combined_model1 = df_y_ratio.loc[:, [\"Country\", \"y_ratio\"]]\n",
    "# add GDP column\n",
    "dfyears_combined_model1[\"GDP\"] = df_GDP_cc.loc[:, \"GDP\"]\n",
    "# add agriculture per land column\n",
    "dfyears_combined_model1[\"Agri_land_cap\"] = df_agri_pop.loc[:, \"Agri_land_cap\"]\n",
    "# add percent basic water service column\n",
    "dfyears_combined_model1[\"Basic_water\"] = df_water_cc.loc[:, \"Basic_water\"]\n",
    "# add percent eating disorder column\n",
    "dfyears_combined_model1[\"Eating_disorder\"] = df_disorder_cc.loc[:, \"Eating_disorder\"]\n",
    "# add percent employed in agriculture column\n",
    "dfyears_combined_model1[\"Employed_%\"] = df_percent_employed.loc[:, \"Employed_%\"]\n",
    "# add co2 per agricultural land column\n",
    "dfyears_combined_model1[\"CO2_agri\"] = df_co2_land.loc[:, \"CO2_agri\"]\n",
    "# add specified year in the first column\n",
    "dfyears_combined_model1.insert(0, \"Year\", get_year)\n",
    "# print dataframe\n",
    "## dfyears_combined_model1\n",
    "\n",
    "# export dataframe\n",
    "# dfyears_combined_model1.to_csv(f\"df{get_year}_combined_model1.csv\")"
   ]
  },
  {
   "cell_type": "markdown",
   "metadata": {},
   "source": [
    "#### Combining the dataframes for years 2013 to 2017 into one dataframe\n",
    "\n",
    "*Year 2013, 2014, 2015, 2016, 2017 was done on seperate occassions and exported to one csv file for each year."
   ]
  },
  {
   "cell_type": "code",
   "execution_count": 1350,
   "metadata": {},
   "outputs": [],
   "source": [
    "# read the csv for each year\n",
    "df2013_combined = pd.read_csv(\"df2013_combined_model1.csv\")\n",
    "df2014_combined = pd.read_csv(\"df2014_combined_model1.csv\")\n",
    "df2015_combined = pd.read_csv(\"df2015_combined_model1.csv\")\n",
    "df2016_combined = pd.read_csv(\"df2016_combined_model1.csv\")\n",
    "df2017_combined = pd.read_csv(\"df2017_combined_model1.csv\")"
   ]
  },
  {
   "cell_type": "code",
   "execution_count": 1351,
   "metadata": {},
   "outputs": [],
   "source": [
    "# combine all five dataframes into one\n",
    "dfallyears_combined_1 = pd.concat([df2013_combined, df2014_combined, df2015_combined, df2016_combined, df2017_combined])\n",
    "# drop the extra column caused due to concat function\n",
    "dfallyears_combined_1 = dfallyears_combined_1.drop(columns = \"Unnamed: 0\")\n",
    "# set index from 0\n",
    "dfallyears_combined_1 = dfallyears_combined_1.reset_index(drop=True)\n",
    "# print dataframe\n",
    "## dfallyears_combined_1\n",
    "\n",
    "# export dataframe\n",
    "# dfallyears_combined.to_csv(\"dfallyears_combined_model1.csv\")"
   ]
  },
  {
   "cell_type": "markdown",
   "metadata": {},
   "source": [
    "#### Removal of outliers"
   ]
  },
  {
   "cell_type": "code",
   "execution_count": 1352,
   "metadata": {},
   "outputs": [],
   "source": [
    "# write function to return the upper limit and lower limit based on IQR\n",
    "# df = dataframe; i = the name of the column\n",
    "def identify_upper_lower (df, i):\n",
    "    q3 = df[i].quantile (q = 0.75)\n",
    "    q1 = df[i].quantile (q = 0.25)\n",
    "    IQR = q3 - q1\n",
    "    upper_limit = q3 + 1.5 * IQR\n",
    "    lower_limit = q1 - 1.5 * IQR\n",
    "    return upper_limit, lower_limit"
   ]
  },
  {
   "cell_type": "markdown",
   "metadata": {},
   "source": [
    "#### List of countries left after removol of countries with outliers"
   ]
  },
  {
   "cell_type": "code",
   "execution_count": 1353,
   "metadata": {},
   "outputs": [],
   "source": [
    "# identifier limit for each factor\n",
    "GDP_limit = identify_upper_lower(dfallyears_combined_1, \"GDP\")\n",
    "Agri_cap_limit = identify_upper_lower(dfallyears_combined_1, \"Agri_land_cap\")\n",
    "Water_limit = identify_upper_lower(dfallyears_combined_1, \"Basic_water\")\n",
    "Eating_limit = identify_upper_lower(dfallyears_combined_1, \"Eating_disorder\")\n",
    "Employed_limit = identify_upper_lower(dfallyears_combined_1, \"Employed_%\")\n",
    "CO2_limit = identify_upper_lower(dfallyears_combined_1, \"CO2_agri\")\n",
    "\n",
    "# removal of rows with outliers\n",
    "dfall_clean_1 = dfallyears_combined_1.copy()\n",
    "# remove GDP outlier\n",
    "dfall_clean_1 = dfall_clean_1.loc[(dfall_clean_1[\"GDP\"] <= GDP_limit[0]) & (dfall_clean_1[\"GDP\"] >= GDP_limit[1]), :]\n",
    "# remove Agriculture land per capita outlier\n",
    "dfall_clean_1 = dfall_clean_1.loc[(dfall_clean_1[\"Agri_land_cap\"] <= Agri_cap_limit[0]) & (dfall_clean_1[\"Agri_land_cap\"] >= Agri_cap_limit[1]), :]\n",
    "# remove basic water outlier\n",
    "dfall_clean_1 = dfall_clean_1.loc[(dfall_clean_1[\"Basic_water\"] <= Water_limit[0]) & (dfall_clean_1[\"Basic_water\"] >= Water_limit[1]), :]\n",
    "# remove eating disorder outlier\n",
    "dfall_clean_1 = dfall_clean_1.loc[(dfall_clean_1[\"Eating_disorder\"] <= Eating_limit[0]) & (dfall_clean_1[\"Eating_disorder\"] >= Eating_limit[1]), :]\n",
    "# remove percentage employed outlier\n",
    "dfall_clean_1 = dfall_clean_1.loc[(dfall_clean_1[\"Employed_%\"] <= Employed_limit[0]) & (dfall_clean_1[\"Employed_%\"] >= Employed_limit[1]), :]\n",
    "# remove CO2 emitted per agricultural land outlier\n",
    "dfall_clean_1 = dfall_clean_1.loc[(dfall_clean_1[\"CO2_agri\"] <= CO2_limit[0]) & (dfall_clean_1[\"CO2_agri\"] >= CO2_limit[1]), :]\n",
    "# print dataframe\n",
    "## dfall_clean_1"
   ]
  },
  {
   "cell_type": "markdown",
   "metadata": {},
   "source": [
    "#### Standardization"
   ]
  },
  {
   "cell_type": "code",
   "execution_count": 1354,
   "metadata": {},
   "outputs": [],
   "source": [
    "def normalize_z(df):\n",
    "    dfout = (df - df.mean(axis = 0)) / df.std(axis = 0)\n",
    "    return dfout"
   ]
  },
  {
   "cell_type": "code",
   "execution_count": 1355,
   "metadata": {},
   "outputs": [],
   "source": [
    "dfall_normalized_1 = dfall_clean_1.copy()\n",
    "# standardize GDP\n",
    "dfall_normalized_1[\"GDP_normalized\"] = normalize_z(dfall_normalized_1[\"GDP\"])\n",
    "# standardize agricultural land per capita\n",
    "dfall_normalized_1[\"Agri_land_cap_normalized\"] = normalize_z(dfall_normalized_1[\"Agri_land_cap\"])\n",
    "# standardize basic water service\n",
    "dfall_normalized_1[\"Basic_water_normalized\"] = normalize_z(dfall_normalized_1[\"Basic_water\"])\n",
    "# standardize eating disorder\n",
    "dfall_normalized_1[\"Eating_disorder_normalized\"] = normalize_z(dfall_normalized_1[\"Eating_disorder\"])\n",
    "# standardize percentage employed\n",
    "dfall_normalized_1[\"Employed_%_normalized\"] = normalize_z(dfall_normalized_1[\"Employed_%\"])\n",
    "# standardize CO2 emitted per agricultural land\n",
    "dfall_normalized_1[\"CO2_agri_normalized\"] = normalize_z(dfall_normalized_1[\"CO2_agri\"])\n",
    "# dfall_normalized_1.to_csv(\"dfallyears_normalized_model1.csv\")\n",
    "## dfall_normalized_1"
   ]
  },
  {
   "cell_type": "markdown",
   "metadata": {},
   "source": [
    "### Training the $1^{st}$ Model"
   ]
  },
  {
   "cell_type": "markdown",
   "metadata": {},
   "source": [
    "Defining functions used in class"
   ]
  },
  {
   "cell_type": "code",
   "execution_count": 1356,
   "metadata": {},
   "outputs": [],
   "source": [
    "def get_features_targets(df, feature_names, target_names):\n",
    "    df_feature = df.loc[:,feature_names]\n",
    "    df_target = df.loc[:,target_names]\n",
    "    return df_feature, df_target\n",
    "\n",
    "def prepare_feature(df_feature):\n",
    "    feature = df_feature.to_numpy().reshape(-1, len(df_feature.columns))\n",
    "    X = np.concatenate((np.ones((feature.shape[0], 1)),feature), axis = 1)\n",
    "    return X\n",
    "\n",
    "def prepare_target(df_target):\n",
    "    target = df_target.to_numpy().reshape(-1, len(df_target.columns))\n",
    "    return target\n",
    "\n",
    "def predict(df_feature, beta):\n",
    "    X = prepare_feature(df_feature)\n",
    "    return np.matmul(X, beta)\n",
    "\n",
    "def calc_linear(X, beta):\n",
    "    return np.matmul(X, beta)\n",
    "\n",
    "def split_data(df_feature, df_target, random_state=None, test_size=0.5):\n",
    "    indexes = df_feature.index\n",
    "    if random_state != None:\n",
    "        np.random.seed(random_state)\n",
    "    \n",
    "    k = int(test_size*len(indexes))\n",
    "    test_index = np.random.choice(indexes, k, replace = False)\n",
    "    indexes = set(indexes)\n",
    "    test_index = set(test_index)\n",
    "    train_index = indexes - test_index\n",
    "    \n",
    "    df_feature_train = df_feature.loc[train_index,:]\n",
    "    df_feature_test = df_feature.loc[test_index,:]\n",
    "    \n",
    "    df_target_train = df_target.loc[train_index,:]\n",
    "    df_target_test = df_target.loc[test_index,:]\n",
    "    return df_feature_train, df_feature_test, df_target_train, df_target_test\n",
    "\n",
    "def r2_score(y, ypred):\n",
    "    ymean = np.mean(y)\n",
    "    diff = y - ymean\n",
    "    sstot = np.matmul(diff.T, diff)\n",
    "    error = y - ypred\n",
    "    ssres = np.matmul(error.T,error)\n",
    "    return 1 - ssres/sstot\n",
    "\n",
    "def mean_squared_error(target, pred):\n",
    "    n = target.shape[0]\n",
    "    error = target - pred\n",
    "    return (1/n)*np.matmul(error.T, error)[0][0]\n",
    "\n",
    "def compute_cost(X, y, beta):\n",
    "    J = 0\n",
    "    m = X.shape[0]\n",
    "    error = calc_linear(X,beta)-y\n",
    "    error_sq = np.matmul(error.T,error)\n",
    "    J = (1/(2*m)) * error_sq\n",
    "    return J\n",
    "\n",
    "def gradient_descent(X, y, beta, alpha, num_iters):\n",
    "    m = X.shape[0]\n",
    "    J_storage = np.zeros((num_iters,1))\n",
    "    for n in range(num_iters):\n",
    "        deriv = np.matmul(X.T,calc_linear(X,beta)-y)\n",
    "        beta = beta - (alpha * (1/m)) * deriv\n",
    "        J_storage[n] = compute_cost(X,y,beta)\n",
    "    return beta, J_storage"
   ]
  },
  {
   "cell_type": "markdown",
   "metadata": {},
   "source": [
    "#### Features and Targets Preparation\n"
   ]
  },
  {
   "cell_type": "code",
   "execution_count": 1357,
   "metadata": {},
   "outputs": [
    {
     "data": {
      "text/html": [
       "<div>\n",
       "<style scoped>\n",
       "    .dataframe tbody tr th:only-of-type {\n",
       "        vertical-align: middle;\n",
       "    }\n",
       "\n",
       "    .dataframe tbody tr th {\n",
       "        vertical-align: top;\n",
       "    }\n",
       "\n",
       "    .dataframe thead th {\n",
       "        text-align: right;\n",
       "    }\n",
       "</style>\n",
       "<table border=\"1\" class=\"dataframe\">\n",
       "  <thead>\n",
       "    <tr style=\"text-align: right;\">\n",
       "      <th></th>\n",
       "      <th>GDP_normalized</th>\n",
       "      <th>Agri_land_cap_normalized</th>\n",
       "      <th>Basic_water_normalized</th>\n",
       "      <th>Eating_disorder_normalized</th>\n",
       "      <th>Employed_%_normalized</th>\n",
       "      <th>CO2_agri_normalized</th>\n",
       "    </tr>\n",
       "  </thead>\n",
       "  <tbody>\n",
       "    <tr>\n",
       "      <th>count</th>\n",
       "      <td>2.460000e+02</td>\n",
       "      <td>2.460000e+02</td>\n",
       "      <td>2.460000e+02</td>\n",
       "      <td>2.460000e+02</td>\n",
       "      <td>2.460000e+02</td>\n",
       "      <td>2.460000e+02</td>\n",
       "    </tr>\n",
       "    <tr>\n",
       "      <th>mean</th>\n",
       "      <td>-1.877450e-16</td>\n",
       "      <td>-2.166289e-17</td>\n",
       "      <td>7.419539e-15</td>\n",
       "      <td>-5.054674e-17</td>\n",
       "      <td>-1.227564e-16</td>\n",
       "      <td>-1.913555e-16</td>\n",
       "    </tr>\n",
       "    <tr>\n",
       "      <th>std</th>\n",
       "      <td>1.000000e+00</td>\n",
       "      <td>1.000000e+00</td>\n",
       "      <td>1.000000e+00</td>\n",
       "      <td>1.000000e+00</td>\n",
       "      <td>1.000000e+00</td>\n",
       "      <td>1.000000e+00</td>\n",
       "    </tr>\n",
       "    <tr>\n",
       "      <th>min</th>\n",
       "      <td>-1.289936e+00</td>\n",
       "      <td>-8.176428e-01</td>\n",
       "      <td>-2.801903e+00</td>\n",
       "      <td>-1.181167e+00</td>\n",
       "      <td>-1.214386e+00</td>\n",
       "      <td>-8.589097e-01</td>\n",
       "    </tr>\n",
       "    <tr>\n",
       "      <th>25%</th>\n",
       "      <td>-7.947972e-01</td>\n",
       "      <td>-6.194479e-01</td>\n",
       "      <td>-8.471266e-01</td>\n",
       "      <td>-7.805692e-01</td>\n",
       "      <td>-8.374143e-01</td>\n",
       "      <td>-6.834671e-01</td>\n",
       "    </tr>\n",
       "    <tr>\n",
       "      <th>50%</th>\n",
       "      <td>-3.732217e-01</td>\n",
       "      <td>-4.665750e-01</td>\n",
       "      <td>6.189558e-01</td>\n",
       "      <td>-3.799711e-01</td>\n",
       "      <td>-3.080225e-01</td>\n",
       "      <td>-3.860079e-01</td>\n",
       "    </tr>\n",
       "    <tr>\n",
       "      <th>75%</th>\n",
       "      <td>5.278848e-01</td>\n",
       "      <td>2.172465e-01</td>\n",
       "      <td>7.934894e-01</td>\n",
       "      <td>9.386643e-01</td>\n",
       "      <td>7.817332e-01</td>\n",
       "      <td>4.206875e-01</td>\n",
       "    </tr>\n",
       "    <tr>\n",
       "      <th>max</th>\n",
       "      <td>2.707613e+00</td>\n",
       "      <td>3.622169e+00</td>\n",
       "      <td>7.934894e-01</td>\n",
       "      <td>2.557748e+00</td>\n",
       "      <td>2.570650e+00</td>\n",
       "      <td>3.989498e+00</td>\n",
       "    </tr>\n",
       "  </tbody>\n",
       "</table>\n",
       "</div>"
      ],
      "text/plain": [
       "       GDP_normalized  Agri_land_cap_normalized  Basic_water_normalized  \\\n",
       "count    2.460000e+02              2.460000e+02            2.460000e+02   \n",
       "mean    -1.877450e-16             -2.166289e-17            7.419539e-15   \n",
       "std      1.000000e+00              1.000000e+00            1.000000e+00   \n",
       "min     -1.289936e+00             -8.176428e-01           -2.801903e+00   \n",
       "25%     -7.947972e-01             -6.194479e-01           -8.471266e-01   \n",
       "50%     -3.732217e-01             -4.665750e-01            6.189558e-01   \n",
       "75%      5.278848e-01              2.172465e-01            7.934894e-01   \n",
       "max      2.707613e+00              3.622169e+00            7.934894e-01   \n",
       "\n",
       "       Eating_disorder_normalized  Employed_%_normalized  CO2_agri_normalized  \n",
       "count                2.460000e+02           2.460000e+02         2.460000e+02  \n",
       "mean                -5.054674e-17          -1.227564e-16        -1.913555e-16  \n",
       "std                  1.000000e+00           1.000000e+00         1.000000e+00  \n",
       "min                 -1.181167e+00          -1.214386e+00        -8.589097e-01  \n",
       "25%                 -7.805692e-01          -8.374143e-01        -6.834671e-01  \n",
       "50%                 -3.799711e-01          -3.080225e-01        -3.860079e-01  \n",
       "75%                  9.386643e-01           7.817332e-01         4.206875e-01  \n",
       "max                  2.557748e+00           2.570650e+00         3.989498e+00  "
      ]
     },
     "metadata": {},
     "output_type": "display_data"
    },
    {
     "data": {
      "text/html": [
       "<div>\n",
       "<style scoped>\n",
       "    .dataframe tbody tr th:only-of-type {\n",
       "        vertical-align: middle;\n",
       "    }\n",
       "\n",
       "    .dataframe tbody tr th {\n",
       "        vertical-align: top;\n",
       "    }\n",
       "\n",
       "    .dataframe thead th {\n",
       "        text-align: right;\n",
       "    }\n",
       "</style>\n",
       "<table border=\"1\" class=\"dataframe\">\n",
       "  <thead>\n",
       "    <tr style=\"text-align: right;\">\n",
       "      <th></th>\n",
       "      <th>y_ratio</th>\n",
       "    </tr>\n",
       "  </thead>\n",
       "  <tbody>\n",
       "    <tr>\n",
       "      <th>count</th>\n",
       "      <td>246.000000</td>\n",
       "    </tr>\n",
       "    <tr>\n",
       "      <th>mean</th>\n",
       "      <td>1.647739</td>\n",
       "    </tr>\n",
       "    <tr>\n",
       "      <th>std</th>\n",
       "      <td>0.141916</td>\n",
       "    </tr>\n",
       "    <tr>\n",
       "      <th>min</th>\n",
       "      <td>1.266631</td>\n",
       "    </tr>\n",
       "    <tr>\n",
       "      <th>25%</th>\n",
       "      <td>1.526006</td>\n",
       "    </tr>\n",
       "    <tr>\n",
       "      <th>50%</th>\n",
       "      <td>1.649479</td>\n",
       "    </tr>\n",
       "    <tr>\n",
       "      <th>75%</th>\n",
       "      <td>1.749036</td>\n",
       "    </tr>\n",
       "    <tr>\n",
       "      <th>max</th>\n",
       "      <td>2.005062</td>\n",
       "    </tr>\n",
       "  </tbody>\n",
       "</table>\n",
       "</div>"
      ],
      "text/plain": [
       "          y_ratio\n",
       "count  246.000000\n",
       "mean     1.647739\n",
       "std      0.141916\n",
       "min      1.266631\n",
       "25%      1.526006\n",
       "50%      1.649479\n",
       "75%      1.749036\n",
       "max      2.005062"
      ]
     },
     "metadata": {},
     "output_type": "display_data"
    }
   ],
   "source": [
    "features = [\"GDP_normalized\",\"Agri_land_cap_normalized\",\"Basic_water_normalized\",\"Eating_disorder_normalized\",\"Employed_%_normalized\",\"CO2_agri_normalized\"]\n",
    "target = ['y_ratio']\n",
    "dfall_feature_1 , dfall_target_1 = get_features_targets(dfall_normalized_1,features,target)\n",
    "# # df2017_feature is already normalisead\n",
    "# # df2017_target was not normalised above\n",
    "display(dfall_feature_1.describe())\n",
    "display(dfall_target_1.describe())"
   ]
  },
  {
   "cell_type": "markdown",
   "metadata": {},
   "source": [
    "#### Pair Plots"
   ]
  },
  {
   "cell_type": "code",
   "execution_count": 1358,
   "metadata": {},
   "outputs": [],
   "source": [
    "# sns.set()\n",
    "# myplot = sns.pairplot(data=dfall_normalized_1)"
   ]
  },
  {
   "cell_type": "markdown",
   "metadata": {},
   "source": [
    "#### Splitting Data\n",
    "- Splitted with test size = 0.3"
   ]
  },
  {
   "cell_type": "markdown",
   "metadata": {},
   "source": [
    "##### Splitting into Train and Test\n"
   ]
  },
  {
   "cell_type": "code",
   "execution_count": 1359,
   "metadata": {},
   "outputs": [
    {
     "name": "stderr",
     "output_type": "stream",
     "text": [
      "/var/folders/2b/1n3vmx9n6xj9kyxht8yl9bl80000gn/T/ipykernel_97642/730328389.py:33: FutureWarning: Passing a set as an indexer is deprecated and will raise in a future version. Use a list instead.\n",
      "  df_feature_train = df_feature.loc[train_index,:]\n",
      "/var/folders/2b/1n3vmx9n6xj9kyxht8yl9bl80000gn/T/ipykernel_97642/730328389.py:34: FutureWarning: Passing a set as an indexer is deprecated and will raise in a future version. Use a list instead.\n",
      "  df_feature_test = df_feature.loc[test_index,:]\n",
      "/var/folders/2b/1n3vmx9n6xj9kyxht8yl9bl80000gn/T/ipykernel_97642/730328389.py:36: FutureWarning: Passing a set as an indexer is deprecated and will raise in a future version. Use a list instead.\n",
      "  df_target_train = df_target.loc[train_index,:]\n",
      "/var/folders/2b/1n3vmx9n6xj9kyxht8yl9bl80000gn/T/ipykernel_97642/730328389.py:37: FutureWarning: Passing a set as an indexer is deprecated and will raise in a future version. Use a list instead.\n",
      "  df_target_test = df_target.loc[test_index,:]\n"
     ]
    }
   ],
   "source": [
    "dfall_feature_train_1 , dfall_feature_test_1 ,dfall_target_train_1 , dfall_target_test_1 = split_data(dfall_feature_1,dfall_target_1,test_size=0.3)"
   ]
  },
  {
   "cell_type": "markdown",
   "metadata": {},
   "source": [
    "##### Splitting Train into Train and Validation Sets"
   ]
  },
  {
   "cell_type": "code",
   "execution_count": 1360,
   "metadata": {},
   "outputs": [
    {
     "name": "stderr",
     "output_type": "stream",
     "text": [
      "/var/folders/2b/1n3vmx9n6xj9kyxht8yl9bl80000gn/T/ipykernel_97642/730328389.py:33: FutureWarning: Passing a set as an indexer is deprecated and will raise in a future version. Use a list instead.\n",
      "  df_feature_train = df_feature.loc[train_index,:]\n",
      "/var/folders/2b/1n3vmx9n6xj9kyxht8yl9bl80000gn/T/ipykernel_97642/730328389.py:34: FutureWarning: Passing a set as an indexer is deprecated and will raise in a future version. Use a list instead.\n",
      "  df_feature_test = df_feature.loc[test_index,:]\n",
      "/var/folders/2b/1n3vmx9n6xj9kyxht8yl9bl80000gn/T/ipykernel_97642/730328389.py:36: FutureWarning: Passing a set as an indexer is deprecated and will raise in a future version. Use a list instead.\n",
      "  df_target_train = df_target.loc[train_index,:]\n",
      "/var/folders/2b/1n3vmx9n6xj9kyxht8yl9bl80000gn/T/ipykernel_97642/730328389.py:37: FutureWarning: Passing a set as an indexer is deprecated and will raise in a future version. Use a list instead.\n",
      "  df_target_test = df_target.loc[test_index,:]\n"
     ]
    }
   ],
   "source": [
    "dfall_feature_train_1 , dfall_feature_val_1 , dfall_target_train_1 , dfall_target_val_1 = split_data(dfall_feature_train_1,dfall_target_train_1,test_size=0.3)"
   ]
  },
  {
   "cell_type": "markdown",
   "metadata": {},
   "source": [
    "#### Cost Function"
   ]
  },
  {
   "cell_type": "code",
   "execution_count": 1361,
   "metadata": {},
   "outputs": [
    {
     "name": "stdout",
     "output_type": "stream",
     "text": [
      "[[1.3666697]]\n",
      "[[2.64725047]]\n"
     ]
    }
   ],
   "source": [
    "X = prepare_feature(dfall_feature_train_1)\n",
    "target = prepare_target(dfall_target_train_1)\n",
    "\n",
    "beta = np.zeros((7,1))\n",
    "J = compute_cost(X,target,beta)\n",
    "print(J)\n",
    "\n",
    "beta = np.ones((7,1))\n",
    "J = compute_cost(X, target, beta)\n",
    "print(J)"
   ]
  },
  {
   "cell_type": "markdown",
   "metadata": {},
   "source": [
    "#### Gradient Descent\n",
    "- Using 1500 iterations and alpha of 0.01\n",
    "- Also choosing the lower cost function"
   ]
  },
  {
   "cell_type": "code",
   "execution_count": 1362,
   "metadata": {},
   "outputs": [
    {
     "name": "stdout",
     "output_type": "stream",
     "text": [
      "[[ 1.65255751e+00]\n",
      " [ 7.88249967e-02]\n",
      " [-2.61229251e-02]\n",
      " [ 1.78738040e-02]\n",
      " [-8.50564292e-04]\n",
      " [-1.25914386e-03]\n",
      " [-1.39492535e-02]]\n"
     ]
    }
   ],
   "source": [
    "iterations = 1500 # arbitrary value\n",
    "alpha = 0.01 # arbitrary value\n",
    "beta = np.zeros((7,1))\n",
    "\n",
    "beta , J_storage = gradient_descent(X,target,beta,alpha,iterations)\n",
    "print(beta)"
   ]
  },
  {
   "cell_type": "code",
   "execution_count": 1363,
   "metadata": {},
   "outputs": [
    {
     "data": {
      "text/plain": [
       "[<matplotlib.lines.Line2D at 0x7fc610175190>]"
      ]
     },
     "execution_count": 1363,
     "metadata": {},
     "output_type": "execute_result"
    },
    {
     "data": {
      "image/png": "[encoded data removed]",
      "text/plain": [
       "<Figure size 432x288 with 1 Axes>"
      ]
     },
     "metadata": {
      "needs_background": "light"
     },
     "output_type": "display_data"
    }
   ],
   "source": [
    "plt.plot(J_storage)"
   ]
  },
  {
   "cell_type": "markdown",
   "metadata": {},
   "source": [
    "#### Running Predictions"
   ]
  },
  {
   "cell_type": "code",
   "execution_count": 1364,
   "metadata": {},
   "outputs": [],
   "source": [
    "pred = predict(dfall_feature_test_1,beta)"
   ]
  },
  {
   "cell_type": "markdown",
   "metadata": {},
   "source": [
    "##### Testing the model against our 6 features"
   ]
  },
  {
   "cell_type": "code",
   "execution_count": 1365,
   "metadata": {},
   "outputs": [
    {
     "data": {
      "text/plain": [
       "<matplotlib.collections.PathCollection at 0x7fc609b07a30>"
      ]
     },
     "execution_count": 1365,
     "metadata": {},
     "output_type": "execute_result"
    },
    {
     "data": {
      "image/png": "[encoded data removed]",
      "text/plain": [
       "<Figure size 432x288 with 1 Axes>"
      ]
     },
     "metadata": {
      "needs_background": "light"
     },
     "output_type": "display_data"
    }
   ],
   "source": [
    "plt.scatter(dfall_feature_test_1[\"GDP_normalized\"],dfall_target_test_1)\n",
    "plt.scatter(dfall_feature_test_1[\"GDP_normalized\"],pred)"
   ]
  },
  {
   "cell_type": "code",
   "execution_count": 1366,
   "metadata": {},
   "outputs": [
    {
     "data": {
      "text/plain": [
       "<matplotlib.collections.PathCollection at 0x7fc632040340>"
      ]
     },
     "execution_count": 1366,
     "metadata": {},
     "output_type": "execute_result"
    },
    {
     "data": {
      "image/png": "[encoded data removed]",
      "text/plain": [
       "<Figure size 432x288 with 1 Axes>"
      ]
     },
     "metadata": {
      "needs_background": "light"
     },
     "output_type": "display_data"
    }
   ],
   "source": [
    "plt.scatter(dfall_feature_test_1[\"Agri_land_cap_normalized\"],dfall_target_test_1)\n",
    "plt.scatter(dfall_feature_test_1[\"Agri_land_cap_normalized\"],pred)"
   ]
  },
  {
   "cell_type": "code",
   "execution_count": 1367,
   "metadata": {},
   "outputs": [
    {
     "data": {
      "text/plain": [
       "<matplotlib.collections.PathCollection at 0x7fc609b9cd60>"
      ]
     },
     "execution_count": 1367,
     "metadata": {},
     "output_type": "execute_result"
    },
    {
     "data": {
      "image/png": "[encoded data removed]",
      "text/plain": [
       "<Figure size 432x288 with 1 Axes>"
      ]
     },
     "metadata": {
      "needs_background": "light"
     },
     "output_type": "display_data"
    }
   ],
   "source": [
    "plt.scatter(dfall_feature_test_1[\"Basic_water_normalized\"],dfall_target_test_1)\n",
    "plt.scatter(dfall_feature_test_1[\"Basic_water_normalized\"],pred)"
   ]
  },
  {
   "cell_type": "code",
   "execution_count": 1368,
   "metadata": {},
   "outputs": [
    {
     "data": {
      "text/plain": [
       "<matplotlib.collections.PathCollection at 0x7fc609c37f10>"
      ]
     },
     "execution_count": 1368,
     "metadata": {},
     "output_type": "execute_result"
    },
    {
     "data": {
      "image/png": "[encoded data removed]",
      "text/plain": [
       "<Figure size 432x288 with 1 Axes>"
      ]
     },
     "metadata": {
      "needs_background": "light"
     },
     "output_type": "display_data"
    }
   ],
   "source": [
    "plt.scatter(dfall_feature_test_1[\"Eating_disorder_normalized\"],dfall_target_test_1)\n",
    "plt.scatter(dfall_feature_test_1[\"Eating_disorder_normalized\"],pred)"
   ]
  },
  {
   "cell_type": "code",
   "execution_count": 1369,
   "metadata": {},
   "outputs": [
    {
     "data": {
      "text/plain": [
       "<matplotlib.collections.PathCollection at 0x7fc63220ca90>"
      ]
     },
     "execution_count": 1369,
     "metadata": {},
     "output_type": "execute_result"
    },
    {
     "data": {
      "image/png": "[encoded data removed]",
      "text/plain": [
       "<Figure size 432x288 with 1 Axes>"
      ]
     },
     "metadata": {
      "needs_background": "light"
     },
     "output_type": "display_data"
    }
   ],
   "source": [
    "plt.scatter(dfall_feature_test_1[\"Employed_%_normalized\"],dfall_target_test_1)\n",
    "plt.scatter(dfall_feature_test_1[\"Employed_%_normalized\"],pred)"
   ]
  },
  {
   "cell_type": "code",
   "execution_count": 1370,
   "metadata": {},
   "outputs": [
    {
     "data": {
      "text/plain": [
       "<matplotlib.collections.PathCollection at 0x7fc609cc08b0>"
      ]
     },
     "execution_count": 1370,
     "metadata": {},
     "output_type": "execute_result"
    },
    {
     "data": {
      "image/png": "[encoded data removed]",
      "text/plain": [
       "<Figure size 432x288 with 1 Axes>"
      ]
     },
     "metadata": {
      "needs_background": "light"
     },
     "output_type": "display_data"
    }
   ],
   "source": [
    "plt.scatter(dfall_feature_test_1[\"CO2_agri_normalized\"],dfall_target_test_1)\n",
    "plt.scatter(dfall_feature_test_1[\"CO2_agri_normalized\"],pred)"
   ]
  },
  {
   "cell_type": "markdown",
   "metadata": {},
   "source": [
    "### Evaluating the $1^{st}$ model\n",
    "- We will be using Mean Square Error (MSE) with the validation set\n",
    "$$\\large \\textrm{MSE} = \\frac{1}{n} \\sum ^n_{i=1}(y^{i}-\\hat y^{i})^2$$"
   ]
  },
  {
   "cell_type": "code",
   "execution_count": 1374,
   "metadata": {},
   "outputs": [],
   "source": [
    "def mean_squared_error(target, pred):\n",
    "    n = target.shape[0]\n",
    "    error = target - pred\n",
    "    return (1/n)*np.matmul(error.T, error)[0][0]"
   ]
  },
  {
   "cell_type": "code",
   "execution_count": 1375,
   "metadata": {},
   "outputs": [
    {
     "name": "stdout",
     "output_type": "stream",
     "text": [
      "MSE: 0.012411128261247252\n"
     ]
    }
   ],
   "source": [
    "target = prepare_target(dfall_target_val_1)\n",
    "pred = predict(dfall_feature_val_1,beta)\n",
    "mse_1 = mean_squared_error(target,pred)\n",
    "print(f\"MSE: {mse_1}\")"
   ]
  },
  {
   "cell_type": "markdown",
   "metadata": {},
   "source": [
    "### Considering Possible Removal of Features for $1^{st}$ model"
   ]
  },
  {
   "cell_type": "markdown",
   "metadata": {},
   "source": [
    "- We will be using another metric to verify whether there is a possible relationship between between our features and the target. We decided to use Mean Absolute Error (MAE).\n",
    "$$\\large \\textrm{MAE} = \\frac{1}{n} \\sum |y_i - x_i| %$$"
   ]
  },
  {
   "cell_type": "code",
   "execution_count": 1371,
   "metadata": {},
   "outputs": [],
   "source": [
    "def mean_absolute_error(df,feature,target):\n",
    "    x = df[feature].to_numpy()\n",
    "    y = df[target].to_numpy()\n",
    "    n = df.shape[0]\n",
    "    error = np.abs((y-x))\n",
    "    return (1/n) * (error.sum())"
   ]
  },
  {
   "cell_type": "code",
   "execution_count": 1372,
   "metadata": {},
   "outputs": [],
   "source": [
    "def mean_absolute_percentage_error(df, feature, target):\n",
    "    x = df[feature].to_numpy()\n",
    "    y = df[target].to_numpy()\n",
    "    n = df.shape[0]\n",
    "    error = np.abs((y-x)/y)\n",
    "    return ((1/n) * (error.sum())) / 100"
   ]
  },
  {
   "cell_type": "markdown",
   "metadata": {},
   "source": [
    "#### Checking the MAE of the normalised data of the 1st Model"
   ]
  },
  {
   "cell_type": "code",
   "execution_count": 1373,
   "metadata": {},
   "outputs": [
    {
     "name": "stdout",
     "output_type": "stream",
     "text": [
      "MAE Data\n",
      "\n",
      "\tGDP_normalized: 426.0910854483676\n",
      "\n",
      "\tAgri_land_cap_normalized: 445.42687381009733\n",
      "\n",
      "\tBasic_water_normalized: 405.34380251487073\n",
      "\n",
      "\tEating_disorder_normalized: 420.87473933074347\n",
      "\n",
      "\tEmployed_%_normalized: 428.2901574876486\n",
      "\n",
      "\tCO2_agri_normalized: 446.3516609168741\n",
      "\n"
     ]
    }
   ],
   "source": [
    "features = [\"GDP_normalized\",\"Agri_land_cap_normalized\",\"Basic_water_normalized\",\"Eating_disorder_normalized\",\"Employed_%_normalized\",\"CO2_agri_normalized\"]\n",
    "target = ['y_ratio']\n",
    "\n",
    "print(\"MAE Data\\n\")\n",
    "for feature in features:\n",
    "    mae = mean_absolute_error(dfall_normalized_1,feature,target)\n",
    "    print(f\"\\t{feature}: {mae}\\n\")"
   ]
  },
  {
   "cell_type": "markdown",
   "metadata": {},
   "source": [
    "- Identify that `Agri_land_cap_normalized` and `CO2_agri_normalised` have the largest MAE and thus the least correlation to the target and will thus be dropped for any optimisations made to our model."
   ]
  },
  {
   "cell_type": "markdown",
   "metadata": {},
   "source": [
    "##  $2^{nd}$ Model"
   ]
  },
  {
   "cell_type": "markdown",
   "metadata": {},
   "source": [
    "- Decided to change `y_ratio` to a new value - Percentage of population with Undernourishment"
   ]
  },
  {
   "cell_type": "markdown",
   "metadata": {},
   "source": [
    "### Cleaning data for the $2^{nd}$ model"
   ]
  },
  {
   "cell_type": "markdown",
   "metadata": {},
   "source": [
    "#### Extract Percentage of population undernourished data for the specified year"
   ]
  },
  {
   "cell_type": "code",
   "execution_count": 1376,
   "metadata": {},
   "outputs": [],
   "source": [
    "# read food supply csv\n",
    "df_undernourishment = pd.read_csv(\"DDW_Prevalence of Undernourishment.csv\")\n",
    "# extract values from the specified year\n",
    "df_undernourishment = df_undernourishment[(df_undernourishment[\"Year\"]==get_year)]\n",
    "# extract year, country and percent undernourished\n",
    "df_undernourishment = df_undernourishment[[\"Year\", \"Entity\", \"Prevalence of undernourishment (% of population)\"]]\n",
    "df_undernourishment = df_undernourishment.rename(columns = {\"Entity\": \"Country\", \"Prevalence of undernourishment (% of population)\": \"Undernourishment\"})\n",
    "# set index from 0\n",
    "df_undernourishment = df_undernourishment.reset_index(drop=True)\n",
    "# find unique countries in percent undernourished\n",
    "df_undernourishment_countries = df_undernourishment.Country.unique()\n",
    "# print dataframe\n",
    "## df_undernourishment"
   ]
  },
  {
   "cell_type": "markdown",
   "metadata": {},
   "source": [
    "#### Extract GDP, adjusted for PPP, per capita data for the specified year"
   ]
  },
  {
   "cell_type": "code",
   "execution_count": 1377,
   "metadata": {},
   "outputs": [],
   "source": [
    "# done in Model 1 part\n",
    "# unique countries\n",
    "## df_GDP_countries\n",
    "# print dataframe\n",
    "## df_GDP"
   ]
  },
  {
   "cell_type": "markdown",
   "metadata": {},
   "source": [
    "#### Extract total population data for the specified year"
   ]
  },
  {
   "cell_type": "code",
   "execution_count": 1378,
   "metadata": {},
   "outputs": [],
   "source": [
    "# done in Model 1 part\n",
    "# unique countries\n",
    "## df_pop_coutries\n",
    "# print dataframe\n",
    "## df_pop"
   ]
  },
  {
   "cell_type": "markdown",
   "metadata": {},
   "source": [
    "#### Extract land area used for agriculture data for the specified year"
   ]
  },
  {
   "cell_type": "code",
   "execution_count": 1379,
   "metadata": {},
   "outputs": [],
   "source": [
    "# done in Model 1 part\n",
    "# unique countries\n",
    "## df_agri_countries\n",
    "# print dataframe\n",
    "## df_agri"
   ]
  },
  {
   "cell_type": "markdown",
   "metadata": {},
   "source": [
    "#### Extract $CO_{2}$ (in million metric tonnes) data for the specified year"
   ]
  },
  {
   "cell_type": "code",
   "execution_count": 1380,
   "metadata": {},
   "outputs": [],
   "source": [
    "# done in Model 1 part\n",
    "# unique countries\n",
    "## df_co2_countries\n",
    "# print dataframe\n",
    "## df_co2"
   ]
  },
  {
   "cell_type": "markdown",
   "metadata": {},
   "source": [
    "#### Extract basic water drinking services data for the specified year"
   ]
  },
  {
   "cell_type": "code",
   "execution_count": 1381,
   "metadata": {},
   "outputs": [],
   "source": [
    "# done in Model 1 part\n",
    "# unique countries\n",
    "## df_water_countries\n",
    "# print dataframe\n",
    "## df_water"
   ]
  },
  {
   "cell_type": "markdown",
   "metadata": {},
   "source": [
    "#### Extract Eating Disorder data for the specified year"
   ]
  },
  {
   "cell_type": "code",
   "execution_count": 1382,
   "metadata": {},
   "outputs": [],
   "source": [
    "# done in Model 1 part\n",
    "# unique countries\n",
    "## df_disorder_countries\n",
    "# print dataframe\n",
    "## df_disorder"
   ]
  },
  {
   "cell_type": "markdown",
   "metadata": {},
   "source": [
    "#### Extract number of people employed in agriculture data for the specified year"
   ]
  },
  {
   "cell_type": "code",
   "execution_count": 1383,
   "metadata": {},
   "outputs": [],
   "source": [
    "# done in Model 1 part\n",
    "# unique countries\n",
    "## df_employment_countries\n",
    "# print dataframe\n",
    "## df_employment"
   ]
  },
  {
   "cell_type": "markdown",
   "metadata": {},
   "source": [
    "#### Create list of common countries\n",
    "\n",
    "- Find the countries that we have all the data for as we do not want to use countries with missing values."
   ]
  },
  {
   "cell_type": "code",
   "execution_count": 1384,
   "metadata": {},
   "outputs": [
    {
     "name": "stdout",
     "output_type": "stream",
     "text": [
      "Common Countries ['Netherlands', 'Costa Rica', 'France', 'Ireland', 'Algeria', 'Georgia', 'Kuwait', 'Slovenia', 'Peru', 'Belarus', 'Portugal', 'Uzbekistan', 'Togo', 'Nepal', 'Jordan', 'Iceland', 'Afghanistan', 'Estonia', 'Denmark', 'Australia', 'Jamaica', 'Belgium', 'Mauritania', 'Cyprus', 'Luxembourg', 'Azerbaijan', 'Canada', 'Samoa', 'Czechia', 'Lithuania', 'El Salvador', 'Dominican Republic', 'Armenia', 'Austria', 'Finland', 'Spain', 'Kazakhstan', 'Mexico', 'Uruguay', 'Rwanda', 'Djibouti', 'Japan', 'South Africa', 'Tunisia', 'Ukraine', 'Switzerland', 'New Zealand', 'Colombia', 'Romania', 'Ghana', 'Norway', 'Hungary', 'Thailand', 'Barbados', 'Israel', 'Sri Lanka', 'Malta', 'Honduras', 'Serbia', 'Cambodia', 'Latvia', 'Sweden', 'Guatemala', 'Belize', 'Chile', 'Bulgaria', 'Philippines', 'Malaysia', 'Mauritius', 'Mongolia', 'Panama', 'Bangladesh', 'United Arab Emirates', 'Germany', 'Albania', 'Italy', 'Ecuador', 'Mali', 'Myanmar', 'Greece', 'Brazil', 'Indonesia', 'Paraguay', 'Bosnia and Herzegovina', 'Poland', 'North Macedonia', 'Montenegro'] \n",
      " Length 87\n"
     ]
    }
   ],
   "source": [
    "# cc2 represent common countries for model 2\n",
    "set1_2 = set(df_undernourishment_countries)\n",
    "set2_2 = set(df_GDP_countries)\n",
    "set3_2 = set(df_pop_coutries)\n",
    "set4_2 = set(df_agri_countries)\n",
    "set5_2 = set(df_co2_countries)\n",
    "set6_2 = set(df_water_countries)\n",
    "set7_2 = set(df_disorder_countries)\n",
    "set8_2 = set(df_employment_countries)\n",
    "\n",
    "cc2 = list(set1_2 & set2_2 & set3_2 & set4_2 & set5_2 & set6_2 & set7_2 & set8_2)\n",
    "print(\"Common Countries\", cc2, \"\\n\", \"Length\", len(cc2))"
   ]
  },
  {
   "cell_type": "markdown",
   "metadata": {},
   "source": [
    "#### Calculating and Combining our dataframes according to our combined countries\n",
    "\n",
    "- We will start by calculating the necessary dependent values first before we fully combine."
   ]
  },
  {
   "cell_type": "code",
   "execution_count": 1385,
   "metadata": {},
   "outputs": [],
   "source": [
    "# extract values from countries in combined countries list\n",
    "df_agri_cc2 = df_agri[df_agri[\"Country\"].isin(cc2)]\n",
    "df_pop_cc2 = df_pop[df_pop[\"Country\"].isin(cc2)]\n",
    "\n",
    "df_agri_pop_2 = df_agri_cc2.copy()\n",
    "# extract population value\n",
    "df_agri_pop_2[\"Total_population\"] = list(df_pop_cc2[\"Population\"])\n",
    "# calculate agriculture land per capita, multiply by 1,000,000 to convert km^2 to m^2\n",
    "df_agri_pop_2[\"Agri_land_cap\"] = (df_agri_pop_2[\"Agri_land\"]/df_agri_pop_2[\"Total_population\"])*1000000\n",
    "# set index from 0\n",
    "df_agri_pop_2 = df_agri_pop_2.reset_index(drop=True)\n",
    "# print dataframe\n",
    "## df_agri_pop_2"
   ]
  },
  {
   "cell_type": "markdown",
   "metadata": {},
   "source": [
    "#### Calculate percentage of population employed in the agriculture industry (%)"
   ]
  },
  {
   "cell_type": "code",
   "execution_count": 1386,
   "metadata": {},
   "outputs": [],
   "source": [
    "# extract values from countries in combined countries list\n",
    "df_employment_cc2 = df_employment[df_employment[\"Country\"].isin(cc2)]\n",
    "df_pop_cc2 = df_pop[df_pop[\"Country\"].isin(cc2)]\n",
    "\n",
    "\n",
    "df_percent_employed_2 = df_employment_cc2.copy()\n",
    "# extract population value\n",
    "df_percent_employed_2[\"Total_population\"] = list(df_pop_cc2[\"Population\"])\n",
    "# calculate percent employed; (employed number/total population) for each country\n",
    "df_percent_employed_2[\"Employed_%\"] = (df_percent_employed_2[\"Employed_num\"]/df_percent_employed_2[\"Total_population\"])*100\n",
    "# set index from 0\n",
    "df_percent_employed_2 = df_percent_employed_2.reset_index(drop=True)\n",
    "# print dataframe\n",
    "## df_percent_employed_2"
   ]
  },
  {
   "cell_type": "markdown",
   "metadata": {},
   "source": [
    "#### Calculate $CO_{2}$ per agricultural land (kg per $m^{2}$)"
   ]
  },
  {
   "cell_type": "code",
   "execution_count": 1387,
   "metadata": {},
   "outputs": [],
   "source": [
    "# extract values from countries in combined countries list\n",
    "df_co2_cc2 = df_co2[df_co2[\"Country\"].isin(cc2)]\n",
    "df_agri_cc2 = df_agri[df_agri[\"Country\"].isin(cc2)]\n",
    "\n",
    "\n",
    "df_co2_land_2 = df_co2_cc2.copy()\n",
    "# extract Agricultural land in km^2\n",
    "df_co2_land_2[\"Agri_land\"] = list(df_agri_cc2[\"Agri_land\"])\n",
    "# calculate CO2 per agricultral land; CO2 in MMT, 1 MMT = 1,000,000,000 kg\n",
    "# 1 km^2 = 1,000,000 m^2; result in kg per m^2\n",
    "df_co2_land_2[\"CO2_agri\"] = (df_co2_land_2[\"CO2\"]/df_co2_land_2[\"Agri_land\"])*1000\n",
    "# set index from 0\n",
    "df_co2_land_2 = df_co2_land_2.reset_index(drop=True)\n",
    "# print dataframe\n",
    "## df_co2_land_2"
   ]
  },
  {
   "cell_type": "markdown",
   "metadata": {},
   "source": [
    "#### Extracting the rest of the dataframes needed by countries that are within the combined countries list"
   ]
  },
  {
   "cell_type": "code",
   "execution_count": 1388,
   "metadata": {},
   "outputs": [],
   "source": [
    "# extract GDP value from countries in combined countries list\n",
    "df_GDP_cc2 = df_GDP[df_GDP[\"Country\"].isin(cc2)]\n",
    "# set index from 0\n",
    "df_GDP_cc2 = df_GDP_cc2.reset_index(drop=True)\n",
    "\n",
    "# extract water value from countries in combined countries list\n",
    "df_water_cc2 = df_water[df_water[\"Country\"].isin(cc2)]\n",
    "# set index from 0\n",
    "df_water_cc2 = df_water_cc2.reset_index(drop=True)\n",
    "\n",
    "# extract eating disorder value from countries in combined countries list\n",
    "df_disorder_cc2 = df_disorder[df_disorder[\"Country\"].isin(cc2)]\n",
    "# set index from 0\n",
    "df_disorder_cc2 = df_disorder_cc2.reset_index(drop=True)\n",
    "\n",
    "# extract eating disorder value from countries in combined countries list\n",
    "df_undernourishment_cc2 = df_undernourishment[df_undernourishment[\"Country\"].isin(cc2)]\n",
    "# set index from 0\n",
    "df_undernourishment_cc2 = df_undernourishment_cc2.reset_index(drop=True)\n",
    "\n",
    "# print dataframe to check if need be\n",
    "# df_GDP_cc2\n",
    "# df_water_cc2\n",
    "# df_disorder_cc2\n",
    "# df_undernourishment_cc2"
   ]
  },
  {
   "cell_type": "markdown",
   "metadata": {},
   "source": [
    "#### Combining all the variables into one dataframe"
   ]
  },
  {
   "cell_type": "code",
   "execution_count": 1389,
   "metadata": {},
   "outputs": [],
   "source": [
    "# add country and Y ratio column\n",
    "dfyears_combined_model2 = df_undernourishment_cc2.loc[:, [\"Country\", \"Undernourishment\"]]\n",
    "# add GDP column\n",
    "dfyears_combined_model2[\"GDP\"] = df_GDP_cc2.loc[:, \"GDP\"]\n",
    "# add agriculture per land column\n",
    "dfyears_combined_model2[\"Agri_land_cap\"] = df_agri_pop_2.loc[:, \"Agri_land_cap\"]\n",
    "# add percent basic water service column\n",
    "dfyears_combined_model2[\"Basic_water\"] = df_water_cc2.loc[:, \"Basic_water\"]\n",
    "# add percent eating disorder column\n",
    "dfyears_combined_model2[\"Eating_disorder\"] = df_disorder_cc2.loc[:, \"Eating_disorder\"]\n",
    "# add percent employed in agriculture column\n",
    "dfyears_combined_model2[\"Employed_%\"] = df_percent_employed_2.loc[:, \"Employed_%\"]\n",
    "# add co2 per agricultural land column\n",
    "dfyears_combined_model2[\"CO2_agri\"] = df_co2_land_2.loc[:, \"CO2_agri\"]\n",
    "# add specified year in the first column\n",
    "dfyears_combined_model2.insert(0, \"Year\", get_year)\n",
    "# set index from 0\n",
    "dfyears_combined_model2 = dfyears_combined_model2.reset_index(drop=True)\n",
    "# print dataframe\n",
    "## dfyears_combined_model2\n",
    "\n",
    "# export dataframe\n",
    "# dfyears_combined_model2.to_csv(f\"df{get_year}_combined_model2.csv\")"
   ]
  },
  {
   "cell_type": "markdown",
   "metadata": {},
   "source": [
    "#### Combining the dataframes for years 2013 to 2017 into one dataframe\n",
    "\n",
    "*Year 2013, 2014, 2015, 2016, 2017 was done on seperate occassions and exported to one csv file for each year."
   ]
  },
  {
   "cell_type": "code",
   "execution_count": 1390,
   "metadata": {},
   "outputs": [],
   "source": [
    "# read the csv for each year\n",
    "df2013_combined_model2 = pd.read_csv(\"df2013_combined_model2.csv\")\n",
    "df2014_combined_model2 = pd.read_csv(\"df2014_combined_model2.csv\")\n",
    "df2015_combined_model2 = pd.read_csv(\"df2015_combined_model2.csv\")\n",
    "df2016_combined_model2 = pd.read_csv(\"df2016_combined_model2.csv\")\n",
    "df2017_combined_model2 = pd.read_csv(\"df2017_combined_model2.csv\")"
   ]
  },
  {
   "cell_type": "code",
   "execution_count": 1391,
   "metadata": {},
   "outputs": [
    {
     "data": {
      "text/html": [
       "<div>\n",
       "<style scoped>\n",
       "    .dataframe tbody tr th:only-of-type {\n",
       "        vertical-align: middle;\n",
       "    }\n",
       "\n",
       "    .dataframe tbody tr th {\n",
       "        vertical-align: top;\n",
       "    }\n",
       "\n",
       "    .dataframe thead th {\n",
       "        text-align: right;\n",
       "    }\n",
       "</style>\n",
       "<table border=\"1\" class=\"dataframe\">\n",
       "  <thead>\n",
       "    <tr style=\"text-align: right;\">\n",
       "      <th></th>\n",
       "      <th>Year</th>\n",
       "      <th>Country</th>\n",
       "      <th>Undernourishment</th>\n",
       "      <th>GDP</th>\n",
       "      <th>Agri_land_cap</th>\n",
       "      <th>Basic_water</th>\n",
       "      <th>Eating_disorder</th>\n",
       "      <th>Employed_%</th>\n",
       "      <th>CO2_agri</th>\n",
       "    </tr>\n",
       "  </thead>\n",
       "  <tbody>\n",
       "    <tr>\n",
       "      <th>0</th>\n",
       "      <td>2013</td>\n",
       "      <td>Albania</td>\n",
       "      <td>3.9</td>\n",
       "      <td>11361.3</td>\n",
       "      <td>4.088797e+03</td>\n",
       "      <td>92.6</td>\n",
       "      <td>0.14</td>\n",
       "      <td>15.527752</td>\n",
       "      <td>0.415059</td>\n",
       "    </tr>\n",
       "    <tr>\n",
       "      <th>1</th>\n",
       "      <td>2013</td>\n",
       "      <td>Algeria</td>\n",
       "      <td>3.1</td>\n",
       "      <td>11319.1</td>\n",
       "      <td>3.223308e+04</td>\n",
       "      <td>93.0</td>\n",
       "      <td>0.22</td>\n",
       "      <td>2.991599</td>\n",
       "      <td>0.107726</td>\n",
       "    </tr>\n",
       "    <tr>\n",
       "      <th>2</th>\n",
       "      <td>2013</td>\n",
       "      <td>Argentina</td>\n",
       "      <td>2.8</td>\n",
       "      <td>24424.1</td>\n",
       "      <td>3.988526e+02</td>\n",
       "      <td>98.9</td>\n",
       "      <td>0.35</td>\n",
       "      <td>0.159302</td>\n",
       "      <td>11.297267</td>\n",
       "    </tr>\n",
       "    <tr>\n",
       "      <th>3</th>\n",
       "      <td>2013</td>\n",
       "      <td>Armenia</td>\n",
       "      <td>3.3</td>\n",
       "      <td>10691.3</td>\n",
       "      <td>1.283048e+06</td>\n",
       "      <td>99.0</td>\n",
       "      <td>0.13</td>\n",
       "      <td>14.568022</td>\n",
       "      <td>0.001489</td>\n",
       "    </tr>\n",
       "    <tr>\n",
       "      <th>4</th>\n",
       "      <td>2013</td>\n",
       "      <td>Australia</td>\n",
       "      <td>2.5</td>\n",
       "      <td>46744.6</td>\n",
       "      <td>1.168097e+03</td>\n",
       "      <td>99.0</td>\n",
       "      <td>1.10</td>\n",
       "      <td>1.286984</td>\n",
       "      <td>14.473973</td>\n",
       "    </tr>\n",
       "    <tr>\n",
       "      <th>...</th>\n",
       "      <td>...</td>\n",
       "      <td>...</td>\n",
       "      <td>...</td>\n",
       "      <td>...</td>\n",
       "      <td>...</td>\n",
       "      <td>...</td>\n",
       "      <td>...</td>\n",
       "      <td>...</td>\n",
       "      <td>...</td>\n",
       "    </tr>\n",
       "    <tr>\n",
       "      <th>422</th>\n",
       "      <td>2017</td>\n",
       "      <td>Tunisia</td>\n",
       "      <td>2.5</td>\n",
       "      <td>11234.5</td>\n",
       "      <td>3.628742e+04</td>\n",
       "      <td>96.0</td>\n",
       "      <td>0.22</td>\n",
       "      <td>4.459936</td>\n",
       "      <td>0.070455</td>\n",
       "    </tr>\n",
       "    <tr>\n",
       "      <th>423</th>\n",
       "      <td>2017</td>\n",
       "      <td>Ukraine</td>\n",
       "      <td>2.5</td>\n",
       "      <td>11860.6</td>\n",
       "      <td>3.197040e+03</td>\n",
       "      <td>93.8</td>\n",
       "      <td>0.13</td>\n",
       "      <td>5.595703</td>\n",
       "      <td>1.568492</td>\n",
       "    </tr>\n",
       "    <tr>\n",
       "      <th>424</th>\n",
       "      <td>2017</td>\n",
       "      <td>United Arab Emirates</td>\n",
       "      <td>3.2</td>\n",
       "      <td>67183.6</td>\n",
       "      <td>2.691330e+04</td>\n",
       "      <td>99.0</td>\n",
       "      <td>0.31</td>\n",
       "      <td>0.694166</td>\n",
       "      <td>0.661221</td>\n",
       "    </tr>\n",
       "    <tr>\n",
       "      <th>425</th>\n",
       "      <td>2017</td>\n",
       "      <td>Uruguay</td>\n",
       "      <td>2.5</td>\n",
       "      <td>23009.9</td>\n",
       "      <td>1.804085e+02</td>\n",
       "      <td>99.0</td>\n",
       "      <td>0.38</td>\n",
       "      <td>4.181898</td>\n",
       "      <td>9.940323</td>\n",
       "    </tr>\n",
       "    <tr>\n",
       "      <th>426</th>\n",
       "      <td>2017</td>\n",
       "      <td>Uzbekistan</td>\n",
       "      <td>2.5</td>\n",
       "      <td>6840.7</td>\n",
       "      <td>3.014446e+04</td>\n",
       "      <td>97.8</td>\n",
       "      <td>0.12</td>\n",
       "      <td>11.487253</td>\n",
       "      <td>0.111223</td>\n",
       "    </tr>\n",
       "  </tbody>\n",
       "</table>\n",
       "<p>427 rows × 9 columns</p>\n",
       "</div>"
      ],
      "text/plain": [
       "     Year               Country  Undernourishment      GDP  Agri_land_cap  \\\n",
       "0    2013               Albania               3.9  11361.3   4.088797e+03   \n",
       "1    2013               Algeria               3.1  11319.1   3.223308e+04   \n",
       "2    2013             Argentina               2.8  24424.1   3.988526e+02   \n",
       "3    2013               Armenia               3.3  10691.3   1.283048e+06   \n",
       "4    2013             Australia               2.5  46744.6   1.168097e+03   \n",
       "..    ...                   ...               ...      ...            ...   \n",
       "422  2017               Tunisia               2.5  11234.5   3.628742e+04   \n",
       "423  2017               Ukraine               2.5  11860.6   3.197040e+03   \n",
       "424  2017  United Arab Emirates               3.2  67183.6   2.691330e+04   \n",
       "425  2017               Uruguay               2.5  23009.9   1.804085e+02   \n",
       "426  2017            Uzbekistan               2.5   6840.7   3.014446e+04   \n",
       "\n",
       "     Basic_water  Eating_disorder  Employed_%   CO2_agri  \n",
       "0           92.6             0.14   15.527752   0.415059  \n",
       "1           93.0             0.22    2.991599   0.107726  \n",
       "2           98.9             0.35    0.159302  11.297267  \n",
       "3           99.0             0.13   14.568022   0.001489  \n",
       "4           99.0             1.10    1.286984  14.473973  \n",
       "..           ...              ...         ...        ...  \n",
       "422         96.0             0.22    4.459936   0.070455  \n",
       "423         93.8             0.13    5.595703   1.568492  \n",
       "424         99.0             0.31    0.694166   0.661221  \n",
       "425         99.0             0.38    4.181898   9.940323  \n",
       "426         97.8             0.12   11.487253   0.111223  \n",
       "\n",
       "[427 rows x 9 columns]"
      ]
     },
     "execution_count": 1391,
     "metadata": {},
     "output_type": "execute_result"
    }
   ],
   "source": [
    "# combine all five dataframes into one\n",
    "dfallyears_combined_2 = pd.concat([df2013_combined_model2, df2014_combined_model2, df2015_combined_model2, df2016_combined_model2, df2017_combined_model2])\n",
    "# drop the extra column caused due to concat function\n",
    "dfallyears_combined_2 = dfallyears_combined_2.drop(columns = \"Unnamed: 0\")\n",
    "# set index from 0\n",
    "dfallyears_combined_2 = dfallyears_combined_2.reset_index(drop=True)\n",
    "# print dataframe\n",
    "## dfallyears_combined_2\n",
    "\n",
    "# export dataframe\n",
    "# dfallyears_combined.to_csv(\"dfallyears_combined_model2.csv\")\n",
    "## dfallyears_combined_2"
   ]
  },
  {
   "cell_type": "markdown",
   "metadata": {},
   "source": [
    "#### List of countries left after removal of countries with outliers\n",
    "\n",
    "- Calls function _identify_upper_lower_ defined in model 1 that returns upper and lower limit"
   ]
  },
  {
   "cell_type": "code",
   "execution_count": 1392,
   "metadata": {},
   "outputs": [],
   "source": [
    "# identifier limit for each factor\n",
    "GDP_limit = identify_upper_lower(dfallyears_combined_2, \"GDP\")\n",
    "Agri_cap_limit = identify_upper_lower(dfallyears_combined_2, \"Agri_land_cap\")\n",
    "Water_limit = identify_upper_lower(dfallyears_combined_2, \"Basic_water\")\n",
    "Eating_limit = identify_upper_lower(dfallyears_combined_2, \"Eating_disorder\")\n",
    "Employed_limit = identify_upper_lower(dfallyears_combined_2, \"Employed_%\")\n",
    "CO2_limit = identify_upper_lower(dfallyears_combined_2, \"CO2_agri\")\n",
    "\n",
    "# removal of rows with outliers\n",
    "dfall_clean_2 = dfallyears_combined_2.copy()\n",
    "# remove GDP outlier\n",
    "dfall_clean_2 = dfall_clean_2.loc[(dfall_clean_2[\"GDP\"] <= GDP_limit[0]) & (dfall_clean_2[\"GDP\"] >= GDP_limit[1]), :]\n",
    "# remove Agriculture land per capita outlier\n",
    "dfall_clean_2 = dfall_clean_2.loc[(dfall_clean_2[\"Agri_land_cap\"] <= Agri_cap_limit[0]) & (dfall_clean_2[\"Agri_land_cap\"] >= Agri_cap_limit[1]), :]\n",
    "# remove basic water outlier\n",
    "dfall_clean_2 = dfall_clean_2.loc[(dfall_clean_2[\"Basic_water\"] <= Water_limit[0]) & (dfall_clean_2[\"Basic_water\"] >= Water_limit[1]), :]\n",
    "# remove eating disorder outlier\n",
    "dfall_clean_2 = dfall_clean_2.loc[(dfall_clean_2[\"Eating_disorder\"] <= Eating_limit[0]) & (dfall_clean_2[\"Eating_disorder\"] >= Eating_limit[1]), :]\n",
    "# remove percentage employed outlier\n",
    "dfall_clean_2 = dfall_clean_2.loc[(dfall_clean_2[\"Employed_%\"] <= Employed_limit[0]) & (dfall_clean_2[\"Employed_%\"] >= Employed_limit[1]), :]\n",
    "# remove CO2 emitted per agricultural land outlier\n",
    "dfall_clean_2 = dfall_clean_2.loc[(dfall_clean_2[\"CO2_agri\"] <= CO2_limit[0]) & (dfall_clean_2[\"CO2_agri\"] >= CO2_limit[1]), :]\n",
    "# print dataframe\n",
    "## dfall_clean_2"
   ]
  },
  {
   "cell_type": "markdown",
   "metadata": {},
   "source": [
    "#### Standardization\n",
    "- Calls function _normalize_z_ defined in model 1."
   ]
  },
  {
   "cell_type": "code",
   "execution_count": 1393,
   "metadata": {},
   "outputs": [],
   "source": [
    "dfall_normalized_2 = dfall_clean_2.copy()\n",
    "# standardize GDP\n",
    "dfall_normalized_2[\"GDP_normalized\"] = normalize_z(dfall_normalized_2[\"GDP\"])\n",
    "# standardize agricultural land per capita\n",
    "dfall_normalized_2[\"Agri_land_cap_normalized\"] = normalize_z(dfall_normalized_2[\"Agri_land_cap\"])\n",
    "# standardize basic water service\n",
    "dfall_normalized_2[\"Basic_water_normalized\"] = normalize_z(dfall_normalized_2[\"Basic_water\"])\n",
    "# standardize eating disorder\n",
    "dfall_normalized_2[\"Eating_disorder_normalized\"] = normalize_z(dfall_normalized_2[\"Eating_disorder\"])\n",
    "# standardize percentage employed\n",
    "dfall_normalized_2[\"Employed_%_normalized\"] = normalize_z(dfall_normalized_2[\"Employed_%\"])\n",
    "# standardize CO2 emitted per agricultural land\n",
    "dfall_normalized_2[\"CO2_agri_normalized\"] = normalize_z(dfall_normalized_2[\"CO2_agri\"])\n",
    "# dfall_normalized_2.to_csv(\"dfallyears_normalized_model2.csv\")\n",
    "## dfall_normalized_2"
   ]
  },
  {
   "cell_type": "markdown",
   "metadata": {},
   "source": [
    "### Repeating Steps above to train the $2^{nd}$ Model"
   ]
  },
  {
   "cell_type": "code",
   "execution_count": 1394,
   "metadata": {},
   "outputs": [
    {
     "data": {
      "text/html": [
       "<div>\n",
       "<style scoped>\n",
       "    .dataframe tbody tr th:only-of-type {\n",
       "        vertical-align: middle;\n",
       "    }\n",
       "\n",
       "    .dataframe tbody tr th {\n",
       "        vertical-align: top;\n",
       "    }\n",
       "\n",
       "    .dataframe thead th {\n",
       "        text-align: right;\n",
       "    }\n",
       "</style>\n",
       "<table border=\"1\" class=\"dataframe\">\n",
       "  <thead>\n",
       "    <tr style=\"text-align: right;\">\n",
       "      <th></th>\n",
       "      <th>GDP_normalized</th>\n",
       "      <th>Agri_land_cap_normalized</th>\n",
       "      <th>Basic_water_normalized</th>\n",
       "      <th>Eating_disorder_normalized</th>\n",
       "      <th>Employed_%_normalized</th>\n",
       "      <th>CO2_agri_normalized</th>\n",
       "    </tr>\n",
       "  </thead>\n",
       "  <tbody>\n",
       "    <tr>\n",
       "      <th>count</th>\n",
       "      <td>2.450000e+02</td>\n",
       "      <td>2.450000e+02</td>\n",
       "      <td>2.450000e+02</td>\n",
       "      <td>2.450000e+02</td>\n",
       "      <td>2.450000e+02</td>\n",
       "      <td>2.450000e+02</td>\n",
       "    </tr>\n",
       "    <tr>\n",
       "      <th>mean</th>\n",
       "      <td>2.302013e-16</td>\n",
       "      <td>1.305078e-16</td>\n",
       "      <td>2.610157e-16</td>\n",
       "      <td>-3.770227e-16</td>\n",
       "      <td>-1.558844e-16</td>\n",
       "      <td>-1.522592e-16</td>\n",
       "    </tr>\n",
       "    <tr>\n",
       "      <th>std</th>\n",
       "      <td>1.000000e+00</td>\n",
       "      <td>1.000000e+00</td>\n",
       "      <td>1.000000e+00</td>\n",
       "      <td>1.000000e+00</td>\n",
       "      <td>1.000000e+00</td>\n",
       "      <td>1.000000e+00</td>\n",
       "    </tr>\n",
       "    <tr>\n",
       "      <th>min</th>\n",
       "      <td>-1.302248e+00</td>\n",
       "      <td>-8.211407e-01</td>\n",
       "      <td>-2.821641e+00</td>\n",
       "      <td>-1.211759e+00</td>\n",
       "      <td>-1.202402e+00</td>\n",
       "      <td>-8.568418e-01</td>\n",
       "    </tr>\n",
       "    <tr>\n",
       "      <th>25%</th>\n",
       "      <td>-8.168614e-01</td>\n",
       "      <td>-6.152638e-01</td>\n",
       "      <td>-8.620888e-01</td>\n",
       "      <td>-7.501494e-01</td>\n",
       "      <td>-8.356285e-01</td>\n",
       "      <td>-6.839477e-01</td>\n",
       "    </tr>\n",
       "    <tr>\n",
       "      <th>50%</th>\n",
       "      <td>-3.431222e-01</td>\n",
       "      <td>-4.856366e-01</td>\n",
       "      <td>6.075755e-01</td>\n",
       "      <td>-4.204282e-01</td>\n",
       "      <td>-2.995495e-01</td>\n",
       "      <td>-4.263990e-01</td>\n",
       "    </tr>\n",
       "    <tr>\n",
       "      <th>75%</th>\n",
       "      <td>5.805865e-01</td>\n",
       "      <td>1.692810e-01</td>\n",
       "      <td>7.825356e-01</td>\n",
       "      <td>1.030345e+00</td>\n",
       "      <td>7.598087e-01</td>\n",
       "      <td>4.142329e-01</td>\n",
       "    </tr>\n",
       "    <tr>\n",
       "      <th>max</th>\n",
       "      <td>2.617562e+00</td>\n",
       "      <td>3.724726e+00</td>\n",
       "      <td>7.825356e-01</td>\n",
       "      <td>2.481119e+00</td>\n",
       "      <td>2.569292e+00</td>\n",
       "      <td>3.889008e+00</td>\n",
       "    </tr>\n",
       "  </tbody>\n",
       "</table>\n",
       "</div>"
      ],
      "text/plain": [
       "       GDP_normalized  Agri_land_cap_normalized  Basic_water_normalized  \\\n",
       "count    2.450000e+02              2.450000e+02            2.450000e+02   \n",
       "mean     2.302013e-16              1.305078e-16            2.610157e-16   \n",
       "std      1.000000e+00              1.000000e+00            1.000000e+00   \n",
       "min     -1.302248e+00             -8.211407e-01           -2.821641e+00   \n",
       "25%     -8.168614e-01             -6.152638e-01           -8.620888e-01   \n",
       "50%     -3.431222e-01             -4.856366e-01            6.075755e-01   \n",
       "75%      5.805865e-01              1.692810e-01            7.825356e-01   \n",
       "max      2.617562e+00              3.724726e+00            7.825356e-01   \n",
       "\n",
       "       Eating_disorder_normalized  Employed_%_normalized  CO2_agri_normalized  \n",
       "count                2.450000e+02           2.450000e+02         2.450000e+02  \n",
       "mean                -3.770227e-16          -1.558844e-16        -1.522592e-16  \n",
       "std                  1.000000e+00           1.000000e+00         1.000000e+00  \n",
       "min                 -1.211759e+00          -1.202402e+00        -8.568418e-01  \n",
       "25%                 -7.501494e-01          -8.356285e-01        -6.839477e-01  \n",
       "50%                 -4.204282e-01          -2.995495e-01        -4.263990e-01  \n",
       "75%                  1.030345e+00           7.598087e-01         4.142329e-01  \n",
       "max                  2.481119e+00           2.569292e+00         3.889008e+00  "
      ]
     },
     "metadata": {},
     "output_type": "display_data"
    },
    {
     "data": {
      "text/html": [
       "<div>\n",
       "<style scoped>\n",
       "    .dataframe tbody tr th:only-of-type {\n",
       "        vertical-align: middle;\n",
       "    }\n",
       "\n",
       "    .dataframe tbody tr th {\n",
       "        vertical-align: top;\n",
       "    }\n",
       "\n",
       "    .dataframe thead th {\n",
       "        text-align: right;\n",
       "    }\n",
       "</style>\n",
       "<table border=\"1\" class=\"dataframe\">\n",
       "  <thead>\n",
       "    <tr style=\"text-align: right;\">\n",
       "      <th></th>\n",
       "      <th>Undernourishment</th>\n",
       "    </tr>\n",
       "  </thead>\n",
       "  <tbody>\n",
       "    <tr>\n",
       "      <th>count</th>\n",
       "      <td>245.000000</td>\n",
       "    </tr>\n",
       "    <tr>\n",
       "      <th>mean</th>\n",
       "      <td>4.854286</td>\n",
       "    </tr>\n",
       "    <tr>\n",
       "      <th>std</th>\n",
       "      <td>3.590646</td>\n",
       "    </tr>\n",
       "    <tr>\n",
       "      <th>min</th>\n",
       "      <td>2.500000</td>\n",
       "    </tr>\n",
       "    <tr>\n",
       "      <th>25%</th>\n",
       "      <td>2.500000</td>\n",
       "    </tr>\n",
       "    <tr>\n",
       "      <th>50%</th>\n",
       "      <td>2.500000</td>\n",
       "    </tr>\n",
       "    <tr>\n",
       "      <th>75%</th>\n",
       "      <td>6.900000</td>\n",
       "    </tr>\n",
       "    <tr>\n",
       "      <th>max</th>\n",
       "      <td>17.700001</td>\n",
       "    </tr>\n",
       "  </tbody>\n",
       "</table>\n",
       "</div>"
      ],
      "text/plain": [
       "       Undernourishment\n",
       "count        245.000000\n",
       "mean           4.854286\n",
       "std            3.590646\n",
       "min            2.500000\n",
       "25%            2.500000\n",
       "50%            2.500000\n",
       "75%            6.900000\n",
       "max           17.700001"
      ]
     },
     "metadata": {},
     "output_type": "display_data"
    }
   ],
   "source": [
    "features = [\"GDP_normalized\",\"Agri_land_cap_normalized\",\"Basic_water_normalized\",\"Eating_disorder_normalized\",\"Employed_%_normalized\",\"CO2_agri_normalized\"]\n",
    "target = [\"Undernourishment\"]\n",
    "dfallyears_feature_model2 , dfallyears_target_model2 = get_features_targets(dfall_normalized_2,features,target)\n",
    "# # df2017_feature is already normalised\n",
    "# # df2017_target was not normalised above\n",
    "display(dfallyears_feature_model2.describe())\n",
    "display(dfallyears_target_model2.describe())\n"
   ]
  },
  {
   "cell_type": "code",
   "execution_count": 1395,
   "metadata": {},
   "outputs": [],
   "source": [
    "# sns.set()\n",
    "# myplot = sns.pairplot(data=dfall_normalized_2)"
   ]
  },
  {
   "cell_type": "code",
   "execution_count": 1396,
   "metadata": {},
   "outputs": [
    {
     "name": "stderr",
     "output_type": "stream",
     "text": [
      "/var/folders/2b/1n3vmx9n6xj9kyxht8yl9bl80000gn/T/ipykernel_97642/730328389.py:33: FutureWarning: Passing a set as an indexer is deprecated and will raise in a future version. Use a list instead.\n",
      "  df_feature_train = df_feature.loc[train_index,:]\n",
      "/var/folders/2b/1n3vmx9n6xj9kyxht8yl9bl80000gn/T/ipykernel_97642/730328389.py:34: FutureWarning: Passing a set as an indexer is deprecated and will raise in a future version. Use a list instead.\n",
      "  df_feature_test = df_feature.loc[test_index,:]\n",
      "/var/folders/2b/1n3vmx9n6xj9kyxht8yl9bl80000gn/T/ipykernel_97642/730328389.py:36: FutureWarning: Passing a set as an indexer is deprecated and will raise in a future version. Use a list instead.\n",
      "  df_target_train = df_target.loc[train_index,:]\n",
      "/var/folders/2b/1n3vmx9n6xj9kyxht8yl9bl80000gn/T/ipykernel_97642/730328389.py:37: FutureWarning: Passing a set as an indexer is deprecated and will raise in a future version. Use a list instead.\n",
      "  df_target_test = df_target.loc[test_index,:]\n",
      "/var/folders/2b/1n3vmx9n6xj9kyxht8yl9bl80000gn/T/ipykernel_97642/730328389.py:33: FutureWarning: Passing a set as an indexer is deprecated and will raise in a future version. Use a list instead.\n",
      "  df_feature_train = df_feature.loc[train_index,:]\n",
      "/var/folders/2b/1n3vmx9n6xj9kyxht8yl9bl80000gn/T/ipykernel_97642/730328389.py:34: FutureWarning: Passing a set as an indexer is deprecated and will raise in a future version. Use a list instead.\n",
      "  df_feature_test = df_feature.loc[test_index,:]\n",
      "/var/folders/2b/1n3vmx9n6xj9kyxht8yl9bl80000gn/T/ipykernel_97642/730328389.py:36: FutureWarning: Passing a set as an indexer is deprecated and will raise in a future version. Use a list instead.\n",
      "  df_target_train = df_target.loc[train_index,:]\n",
      "/var/folders/2b/1n3vmx9n6xj9kyxht8yl9bl80000gn/T/ipykernel_97642/730328389.py:37: FutureWarning: Passing a set as an indexer is deprecated and will raise in a future version. Use a list instead.\n",
      "  df_target_test = df_target.loc[test_index,:]\n"
     ]
    }
   ],
   "source": [
    "dfallyears_new_feature_train , dfallyears_new_feature_test ,dfallyears_new_target_train , dfallyears_new_target_test = split_data(dfallyears_feature_model2,dfallyears_target_model2,test_size=0.3)\n",
    "dfallyears_new_feature_train , dfallyears_new_feature_val , dfallyears_new_target_train , dfallyears_new_target_val = split_data(dfallyears_new_feature_train,dfallyears_new_target_train,test_size=0.3)"
   ]
  },
  {
   "cell_type": "code",
   "execution_count": 1397,
   "metadata": {},
   "outputs": [
    {
     "name": "stdout",
     "output_type": "stream",
     "text": [
      "[[21.68719033]]\n",
      "[[26.64197325]]\n"
     ]
    }
   ],
   "source": [
    "X = prepare_feature(dfallyears_new_feature_train)\n",
    "target = prepare_target(dfallyears_new_target_train)\n",
    "\n",
    "beta = np.zeros((7,1))\n",
    "J = compute_cost(X,target,beta)\n",
    "print(J)\n",
    "\n",
    "beta = np.ones((7,1))\n",
    "J = compute_cost(X, target, beta)\n",
    "print(J)"
   ]
  },
  {
   "cell_type": "code",
   "execution_count": 1398,
   "metadata": {},
   "outputs": [
    {
     "name": "stdout",
     "output_type": "stream",
     "text": [
      "[[ 4.70447696]\n",
      " [-1.50780649]\n",
      " [-1.2887913 ]\n",
      " [-1.40481446]\n",
      " [ 0.71855963]\n",
      " [ 0.14513068]\n",
      " [-0.75769877]]\n"
     ]
    }
   ],
   "source": [
    "iterations = 1500 # arbitrary value\n",
    "alpha = 0.01 # arbitrary value\n",
    "beta = np.zeros((7,1))\n",
    "\n",
    "beta , J_storage = gradient_descent(X,target,beta,alpha,iterations)\n",
    "print(beta)"
   ]
  },
  {
   "cell_type": "code",
   "execution_count": 1399,
   "metadata": {},
   "outputs": [
    {
     "data": {
      "text/plain": [
       "[<matplotlib.lines.Line2D at 0x7fc609be7a30>]"
      ]
     },
     "execution_count": 1399,
     "metadata": {},
     "output_type": "execute_result"
    },
    {
     "data": {
      "image/png": "[encoded data removed]",
      "text/plain": [
       "<Figure size 432x288 with 1 Axes>"
      ]
     },
     "metadata": {
      "needs_background": "light"
     },
     "output_type": "display_data"
    }
   ],
   "source": [
    "plt.plot(J_storage)"
   ]
  },
  {
   "cell_type": "code",
   "execution_count": 1400,
   "metadata": {},
   "outputs": [],
   "source": [
    "pred = predict(dfallyears_new_feature_test,beta)"
   ]
  },
  {
   "cell_type": "code",
   "execution_count": 1401,
   "metadata": {},
   "outputs": [
    {
     "data": {
      "text/plain": [
       "<matplotlib.collections.PathCollection at 0x7fc609d04a60>"
      ]
     },
     "execution_count": 1401,
     "metadata": {},
     "output_type": "execute_result"
    },
    {
     "data": {
      "image/png": "[encoded data removed]",
      "text/plain": [
       "<Figure size 432x288 with 1 Axes>"
      ]
     },
     "metadata": {
      "needs_background": "light"
     },
     "output_type": "display_data"
    }
   ],
   "source": [
    "plt.scatter(dfallyears_new_feature_test[\"GDP_normalized\"],dfallyears_new_target_test)\n",
    "plt.scatter(dfallyears_new_feature_test[\"GDP_normalized\"],pred)"
   ]
  },
  {
   "cell_type": "code",
   "execution_count": 1402,
   "metadata": {},
   "outputs": [
    {
     "data": {
      "text/plain": [
       "<matplotlib.collections.PathCollection at 0x7fc610526ee0>"
      ]
     },
     "execution_count": 1402,
     "metadata": {},
     "output_type": "execute_result"
    },
    {
     "data": {
      "image/png": "[encoded data removed]",
      "text/plain": [
       "<Figure size 432x288 with 1 Axes>"
      ]
     },
     "metadata": {
      "needs_background": "light"
     },
     "output_type": "display_data"
    }
   ],
   "source": [
    "plt.scatter(dfallyears_new_feature_test[\"Agri_land_cap_normalized\"],dfallyears_new_target_test)\n",
    "plt.scatter(dfallyears_new_feature_test[\"Agri_land_cap_normalized\"],pred)"
   ]
  },
  {
   "cell_type": "code",
   "execution_count": 1403,
   "metadata": {},
   "outputs": [
    {
     "data": {
      "text/plain": [
       "<matplotlib.collections.PathCollection at 0x7fc6105e97c0>"
      ]
     },
     "execution_count": 1403,
     "metadata": {},
     "output_type": "execute_result"
    },
    {
     "data": {
      "image/png": "[encoded data removed]",
      "text/plain": [
       "<Figure size 432x288 with 1 Axes>"
      ]
     },
     "metadata": {
      "needs_background": "light"
     },
     "output_type": "display_data"
    }
   ],
   "source": [
    "plt.scatter(dfallyears_new_feature_test[\"Basic_water_normalized\"],dfallyears_new_target_test)\n",
    "plt.scatter(dfallyears_new_feature_test[\"Basic_water_normalized\"],pred)"
   ]
  },
  {
   "cell_type": "code",
   "execution_count": 1404,
   "metadata": {},
   "outputs": [
    {
     "data": {
      "text/plain": [
       "<matplotlib.collections.PathCollection at 0x7fc609d49d00>"
      ]
     },
     "execution_count": 1404,
     "metadata": {},
     "output_type": "execute_result"
    },
    {
     "data": {
      "image/png": "[encoded data removed]",
      "text/plain": [
       "<Figure size 432x288 with 1 Axes>"
      ]
     },
     "metadata": {
      "needs_background": "light"
     },
     "output_type": "display_data"
    }
   ],
   "source": [
    "plt.scatter(dfallyears_new_feature_test[\"Eating_disorder_normalized\"],dfallyears_new_target_test)\n",
    "plt.scatter(dfallyears_new_feature_test[\"Eating_disorder_normalized\"],pred)"
   ]
  },
  {
   "cell_type": "code",
   "execution_count": 1405,
   "metadata": {},
   "outputs": [
    {
     "data": {
      "text/plain": [
       "<matplotlib.collections.PathCollection at 0x7fc609d97460>"
      ]
     },
     "execution_count": 1405,
     "metadata": {},
     "output_type": "execute_result"
    },
    {
     "data": {
      "image/png": "[encoded data removed]",
      "text/plain": [
       "<Figure size 432x288 with 1 Axes>"
      ]
     },
     "metadata": {
      "needs_background": "light"
     },
     "output_type": "display_data"
    }
   ],
   "source": [
    "plt.scatter(dfallyears_new_feature_test[\"Employed_%_normalized\"],dfallyears_new_target_test)\n",
    "plt.scatter(dfallyears_new_feature_test[\"Employed_%_normalized\"],pred)"
   ]
  },
  {
   "cell_type": "code",
   "execution_count": 1406,
   "metadata": {},
   "outputs": [
    {
     "data": {
      "text/plain": [
       "<matplotlib.collections.PathCollection at 0x7fc6105b8ca0>"
      ]
     },
     "execution_count": 1406,
     "metadata": {},
     "output_type": "execute_result"
    },
    {
     "data": {
      "image/png": "[encoded data removed]",
      "text/plain": [
       "<Figure size 432x288 with 1 Axes>"
      ]
     },
     "metadata": {
      "needs_background": "light"
     },
     "output_type": "display_data"
    }
   ],
   "source": [
    "plt.scatter(dfallyears_new_feature_test[\"CO2_agri_normalized\"],dfallyears_new_target_test)\n",
    "plt.scatter(dfallyears_new_feature_test[\"CO2_agri_normalized\"],pred)"
   ]
  },
  {
   "cell_type": "markdown",
   "metadata": {},
   "source": [
    "### Considering Possible Removal of Features for $2^{nd}$ model"
   ]
  },
  {
   "cell_type": "markdown",
   "metadata": {},
   "source": [
    "#### Mean Absolute Errors of 6 factors against Prevalence of Undernourishment"
   ]
  },
  {
   "cell_type": "code",
   "execution_count": 1408,
   "metadata": {},
   "outputs": [
    {
     "name": "stdout",
     "output_type": "stream",
     "text": [
      "MAE Data\n",
      "\n",
      "\tGDP_normalized: 1189.5060533538485\n",
      "\n",
      "\tAgri_land_cap_normalized: 1195.0698046773887\n",
      "\n",
      "\tBasic_water_normalized: 1189.3000030517578\n",
      "\n",
      "\tEating_disorder_normalized: 1189.3000030517583\n",
      "\n",
      "\tEmployed_%_normalized: 1189.3718402223378\n",
      "\n",
      "\tCO2_agri_normalized: 1198.4244873849484\n",
      "\n"
     ]
    }
   ],
   "source": [
    "features = [\"GDP_normalized\",\"Agri_land_cap_normalized\",\"Basic_water_normalized\",\"Eating_disorder_normalized\",\"Employed_%_normalized\",\"CO2_agri_normalized\"]\n",
    "target = ['Undernourishment']\n",
    "\n",
    "\n",
    "print(\"MAE Data\\n\")\n",
    "for feature in features:\n",
    "    mae = mean_absolute_error(dfall_normalized_2,feature,target)\n",
    "    print(f\"\\t{feature}: {mae}\\n\")"
   ]
  },
  {
   "cell_type": "markdown",
   "metadata": {},
   "source": [
    "### Model Evaluation using MSE for the $2^{nd}$ Model"
   ]
  },
  {
   "cell_type": "markdown",
   "metadata": {},
   "source": [
    "- Also done with **Validation Set** to make sure that there is less bias from testing with the train set."
   ]
  },
  {
   "cell_type": "code",
   "execution_count": 1407,
   "metadata": {},
   "outputs": [
    {
     "name": "stdout",
     "output_type": "stream",
     "text": [
      "MSE: 5.652435642897357\n"
     ]
    }
   ],
   "source": [
    "target = prepare_target(dfallyears_new_target_val)\n",
    "pred = predict(dfallyears_new_feature_val,beta)\n",
    "mse_2 = mean_squared_error(target,pred)\n",
    "\n",
    "print(f\"MSE: {mse_2}\")"
   ]
  },
  {
   "cell_type": "markdown",
   "metadata": {},
   "source": [
    "- Since the MSE of the $2^{nd}$ model is a lot higher than the previous model, we will not be proceeding with the $2^{nd}$ model.\n",
    "\n",
    "- This means we will not be using the MAE data for this model."
   ]
  },
  {
   "cell_type": "markdown",
   "metadata": {},
   "source": [
    "## $3^{rd}$ Model"
   ]
  },
  {
   "cell_type": "markdown",
   "metadata": {},
   "source": [
    "- Optimised version of Model 1\n",
    "\n",
    "- Since the MSE for the 2nd model is higher, we will be using the 1st model to optimise for our 3rd model\n",
    "\n",
    "- We identified in model 1 that `Agri_land_cap_normalized` and `CO2_agri_normalized` have the largest MAE and thus the least correlation to the target and will thus be dropped for the 3rd model."
   ]
  },
  {
   "cell_type": "markdown",
   "metadata": {},
   "source": [
    "### Cleaning the data for $3^{rd}$ Model"
   ]
  },
  {
   "cell_type": "markdown",
   "metadata": {},
   "source": [
    "#### Extract fat and protein supplied for the specified year"
   ]
  },
  {
   "cell_type": "code",
   "execution_count": 1409,
   "metadata": {},
   "outputs": [],
   "source": [
    "# read fat and protein supply csv\n",
    "df_f_p = pd.read_csv(\"DDW_Fat and Protein Supply.csv\")\n",
    "# rename column name and value within \"Year\" column\n",
    "df_f_p = df_f_p.rename(columns = {\"Area\": \"Country\"})\n",
    "df_f_p = df_f_p.replace({\"Average protein supply (g/cap/day) (3-year average)\": \"Protein\", \"Average fat supply (g/cap/day) (3-year average)\": \"Fat\"})\n",
    "df_f_p = df_f_p.replace({\"2011-2013\": 2012, \"2012-2014\": 2013, \"2013-2015\": 2014, \"2014-2016\": 2015, \"2015-2017\": 2016, \"2016-2018\": 2017})"
   ]
  },
  {
   "cell_type": "code",
   "execution_count": 1410,
   "metadata": {},
   "outputs": [],
   "source": [
    "# extract values only when item is protein\n",
    "df_protein = df_f_p[(df_f_p[\"Item\"] == \"Protein\")]\n",
    "# extract values for the specified year\n",
    "df_protein = df_protein[(df_protein[\"Year\"]==get_year)]\n",
    "# extract year, country and food supply\n",
    "df_protein = df_protein[[\"Year\", \"Country\", \"Value\"]]\n",
    "df_protein = df_protein.rename(columns = {\"Value\": \"Protein\"})\n",
    "# drop rows with no value (NaN)\n",
    "df_protein = df_protein.dropna()\n",
    "# set index from 0\n",
    "df_protein = df_protein.reset_index(drop=True)\n",
    "# find unique countries in protein data\n",
    "df_protein_countries = df_protein.Country.unique()\n",
    "# print dataframe\n",
    "## df_protein"
   ]
  },
  {
   "cell_type": "code",
   "execution_count": 1411,
   "metadata": {},
   "outputs": [],
   "source": [
    "# extract values only when item is fat\n",
    "df_fat = df_f_p[(df_f_p[\"Item\"] == \"Fat\")]\n",
    "# extract values for the specified year\n",
    "df_fat = df_fat[(df_fat[\"Year\"]==get_year)]\n",
    "# extract year, country and food supply\n",
    "df_fat = df_fat[[\"Year\", \"Country\", \"Value\"]]\n",
    "df_fat = df_fat.rename(columns = {\"Value\": \"Fat\"})\n",
    "# drop rows with no value (NaN)\n",
    "df_fat = df_fat.dropna()\n",
    "# set index from 0\n",
    "df_fat = df_fat.reset_index(drop=True)\n",
    "# find unique countries in fat data\n",
    "df_fat_countries = df_fat.Country.unique()\n",
    "# print dataframe\n",
    "## df_fat"
   ]
  },
  {
   "cell_type": "markdown",
   "metadata": {},
   "source": [
    "#### Extract calories supplied data for the specified year"
   ]
  },
  {
   "cell_type": "code",
   "execution_count": 1412,
   "metadata": {},
   "outputs": [],
   "source": [
    "# done in Model 1 part\n",
    "# find unique countries in calories supply data\n",
    "df_calories_countries = df_calories.Country.unique()\n",
    "# print dataframe\n",
    "## df_calories"
   ]
  },
  {
   "cell_type": "markdown",
   "metadata": {},
   "source": [
    "#### Extract minimum calorie intake required data for the specified year"
   ]
  },
  {
   "cell_type": "code",
   "execution_count": 1413,
   "metadata": {},
   "outputs": [],
   "source": [
    "# done in Model 1 part\n",
    "# find unique countries in miniumum calorie intake required data\n",
    "df_min_cal_countries = df_min_cal.Country.unique()\n",
    "# print dataframe\n",
    "## df_min_cal"
   ]
  },
  {
   "cell_type": "markdown",
   "metadata": {},
   "source": [
    "#### Extract GDP, adjusted for PPP, per capita data for the specified year"
   ]
  },
  {
   "cell_type": "code",
   "execution_count": 1414,
   "metadata": {},
   "outputs": [],
   "source": [
    "# done in Model 1 part\n",
    "# unique countries\n",
    "## df_GDP_countries\n",
    "# print dataframe\n",
    "## df_GDP"
   ]
  },
  {
   "cell_type": "markdown",
   "metadata": {},
   "source": [
    "#### Extract total population data for the specified year"
   ]
  },
  {
   "cell_type": "code",
   "execution_count": 1415,
   "metadata": {},
   "outputs": [],
   "source": [
    "# done in Model 1 part\n",
    "# unique countries\n",
    "## df_pop_coutries\n",
    "# print dataframe\n",
    "## df_pop"
   ]
  },
  {
   "cell_type": "markdown",
   "metadata": {},
   "source": [
    "#### Extract basic water drinking services data for the specified year"
   ]
  },
  {
   "cell_type": "code",
   "execution_count": 1416,
   "metadata": {},
   "outputs": [],
   "source": [
    "# done in Model 1 part\n",
    "# unique countries\n",
    "## df_water_countries\n",
    "# print dataframe\n",
    "## df_water"
   ]
  },
  {
   "cell_type": "markdown",
   "metadata": {},
   "source": [
    "#### Extract Eating Disorder data for the specified year"
   ]
  },
  {
   "cell_type": "code",
   "execution_count": 1417,
   "metadata": {},
   "outputs": [],
   "source": [
    "# done in Model 1 part\n",
    "# unique countries\n",
    "## df_disorder_countries\n",
    "# print dataframe\n",
    "## df_disorder"
   ]
  },
  {
   "cell_type": "markdown",
   "metadata": {},
   "source": [
    "#### Extract number of people employed in agriculture data for the specified year"
   ]
  },
  {
   "cell_type": "code",
   "execution_count": 1418,
   "metadata": {},
   "outputs": [],
   "source": [
    "# done in Model 1 part\n",
    "# unique countries\n",
    "## df_employment_countries\n",
    "# print dataframe\n",
    "## df_employment"
   ]
  },
  {
   "cell_type": "markdown",
   "metadata": {},
   "source": [
    "#### Create list of common countries\n",
    "\n",
    "Find the countries that we have all the data for as we do not want to use countries with missing values."
   ]
  },
  {
   "cell_type": "code",
   "execution_count": 1419,
   "metadata": {},
   "outputs": [
    {
     "name": "stdout",
     "output_type": "stream",
     "text": [
      "Common Countries ['Netherlands', 'Costa Rica', 'France', 'Ireland', 'Algeria', 'Georgia', 'Kuwait', 'Kyrgyzstan', 'Slovenia', 'Peru', 'Belarus', 'Portugal', 'Uzbekistan', 'Togo', 'Nepal', 'Jordan', 'Iceland', 'Afghanistan', 'Estonia', 'Denmark', 'Australia', 'Jamaica', 'Belgium', 'Mauritania', 'Cyprus', 'Luxembourg', 'Azerbaijan', 'Canada', 'Samoa', 'Czechia', 'Lithuania', 'El Salvador', 'Dominican Republic', 'Armenia', 'Austria', 'Finland', 'Spain', 'Kazakhstan', 'Mexico', 'Uruguay', 'Rwanda', 'Djibouti', 'Japan', 'Slovakia', 'Egypt', 'South Africa', 'Tunisia', 'Ukraine', 'Switzerland', 'New Zealand', 'Colombia', 'Romania', 'Ghana', 'Norway', 'Hungary', 'Thailand', 'Barbados', 'Israel', 'Sri Lanka', 'Malta', 'Honduras', 'Serbia', 'Cambodia', 'Latvia', 'Sweden', 'Guatemala', 'Belize', 'Chile', 'Bulgaria', 'Philippines', 'Malaysia', 'Mauritius', 'Mongolia', 'Panama', 'Bangladesh', 'United Arab Emirates', 'Germany', 'Albania', 'Italy', 'Ecuador', 'Mali', 'Myanmar', 'Greece', 'Brazil', 'Indonesia', 'Paraguay', 'Bosnia and Herzegovina', 'Poland', 'North Macedonia', 'Montenegro'] \n",
      " Length 90\n"
     ]
    }
   ],
   "source": [
    "set1_3 = set(df_undernourishment_countries)\n",
    "set2_3 = set(df_fat_countries)\n",
    "set3_3 = set(df_protein_countries)\n",
    "set4_3 = set(df_calories_countries)\n",
    "set5_3 = set(df_GDP_countries)\n",
    "set6_3 = set(df_pop_coutries)\n",
    "set7_3 = set(df_water_countries)\n",
    "set8_3 = set(df_employment_countries)\n",
    "set9_3 = set(df_disorder_countries)\n",
    "set10_3 = set(df_min_cal_countries)\n",
    "\n",
    "cc3 = list(set1_3 & set2_3 & set3_3 & set4_3 & set5_3 & set6_3 & set7_3 & set8_3 & set9_3 & set10_3)\n",
    "print(\"Common Countries\", cc3, \"\\n\", \"Length\", len(cc3))"
   ]
  },
  {
   "cell_type": "markdown",
   "metadata": {},
   "source": [
    "#### Calculating and Combining our dataframes according to our combined countries\n",
    "\n",
    "We will start by calculating the necessary dependent values first before we fully combine."
   ]
  },
  {
   "cell_type": "markdown",
   "metadata": {},
   "source": [
    "#### Calculate Y ratio \n",
    "$$\n",
    "\\frac{\\text{Daily calories supplied (kcal/capita day)}}{\\text{Minimum calories required (kcal/capita day)}}\n",
    "$$"
   ]
  },
  {
   "cell_type": "code",
   "execution_count": 1420,
   "metadata": {},
   "outputs": [],
   "source": [
    "# extract values from countries in combined countries list\n",
    "df_calories_cc3 = df_calories[df_calories[\"Country\"].isin(cc3)]\n",
    "df_min_cal_cc3 = df_min_cal[df_min_cal[\"Country\"].isin(cc3)]\n",
    "\n",
    "df_y_ratio_3 = df_calories_cc3.copy()\n",
    "# extract minimum calorie value\n",
    "df_y_ratio_3[\"Mininum_calorie_intake\"] = list(df_min_cal_cc3[\"Mininum_calorie_intake\"])\n",
    "# calculate Y ratio based on stated equation\n",
    "df_y_ratio_3[\"y_ratio\"] = df_y_ratio_3[\"Calories_supply\"]/df_y_ratio_3[\"Mininum_calorie_intake\"]\n",
    "# set index from 0\n",
    "df_y_ratio_3 = df_y_ratio_3.reset_index(drop=True)\n",
    "# print dataframe\n",
    "## df_y_ratio_3"
   ]
  },
  {
   "cell_type": "markdown",
   "metadata": {},
   "source": [
    "#### Calculate Carbohydrate supplied (g/capita day)\n",
    "\n",
    "We can easily calculate the carbohydrate supplied using\n",
    "$$\n",
    "\\small \\text{Carbohydate Supplied} = \\frac{\\text{Energy supplied - (Protein supplied * 4) - (Fat supplied * 9 )}}{\\text{4}}\n",
    "$$\n",
    "- 1g of Carbohydrate = 4 kcal\n",
    "- 1g of Protein = 4 kcal\n",
    "- 1g of Fat = 9 kcal"
   ]
  },
  {
   "cell_type": "code",
   "execution_count": 1421,
   "metadata": {},
   "outputs": [],
   "source": [
    "# extract values from countries in combined countries list\n",
    "df_protein_cc3 = df_protein[df_protein[\"Country\"].isin(cc3)]\n",
    "df_fat_cc3 = df_fat[df_fat[\"Country\"].isin(cc3)]\n",
    "df_calories_cc3 = df_calories[df_calories[\"Country\"].isin(cc3)]\n",
    "\n",
    "df_carb_cc3 = df_protein_cc3.copy()\n",
    "# extract Fat value\n",
    "df_carb_cc3[\"Fat\"] = list(df_fat_cc3[\"Fat\"])\n",
    "# extract Calories supply value\n",
    "df_carb_cc3[\"Total_calories\"] = list(df_calories_cc3[\"Calories_supply\"])\n",
    "# calculate carbohydrate in (g/capita day)\n",
    "df_carb_cc3[\"Carbohydrate\"] = (df_carb_cc3[\"Total_calories\"] - 9*df_carb_cc3[\"Fat\"] - 4*df_carb_cc3[\"Protein\"])/4\n",
    "# set index from 0\n",
    "df_carb_cc3 = df_carb_cc3.reset_index(drop=True)\n",
    "# print dataframe\n",
    "## df_carb_cc3"
   ]
  },
  {
   "cell_type": "markdown",
   "metadata": {},
   "source": [
    "#### Calculate percentage of population employed in the agriculture industry (%)"
   ]
  },
  {
   "cell_type": "code",
   "execution_count": 1422,
   "metadata": {},
   "outputs": [],
   "source": [
    "# extract values from countries in combined countries list\n",
    "df_employment_cc3 = df_employment[df_employment[\"Country\"].isin(cc3)]\n",
    "df_pop_cc3 = df_pop[df_pop[\"Country\"].isin(cc3)]\n",
    "\n",
    "\n",
    "df_percent_employed_3 = df_employment_cc3.copy()\n",
    "# extract population value\n",
    "df_percent_employed_3[\"Total_population\"] = list(df_pop_cc3[\"Population\"])\n",
    "# calculate percent employed; (employed number/total population) for each country\n",
    "df_percent_employed_3[\"Employed_%\"] = (df_percent_employed_3[\"Employed_num\"]/df_percent_employed_3[\"Total_population\"])*100\n",
    "# set index from 0\n",
    "df_percent_employed_3 = df_percent_employed_3.reset_index(drop=True)\n",
    "# print dataframe\n",
    "## df_percent_employed_3"
   ]
  },
  {
   "cell_type": "markdown",
   "metadata": {},
   "source": [
    "#### Extracting the rest of the dataframes needed by countries that are within the combined countries list"
   ]
  },
  {
   "cell_type": "code",
   "execution_count": 1423,
   "metadata": {},
   "outputs": [],
   "source": [
    "# extract GDP value from countries in combined countries list\n",
    "df_GDP_cc3 = df_GDP[df_GDP[\"Country\"].isin(cc3)]\n",
    "# set index from 0\n",
    "df_GDP_cc3 = df_GDP_cc3.reset_index(drop=True)\n",
    "\n",
    "# extract water value from countries in combined countries list\n",
    "df_water_cc3 = df_water[df_water[\"Country\"].isin(cc3)]\n",
    "# set index from 0\n",
    "df_water_cc3 = df_water_cc3.reset_index(drop=True)\n",
    "\n",
    "# extract eating disorder value from countries in combined countries list\n",
    "df_disorder_cc3 = df_disorder[df_disorder[\"Country\"].isin(cc3)]\n",
    "# set index from 0\n",
    "df_disorder_cc3 = df_disorder_cc3.reset_index(drop=True)\n",
    "\n",
    "# print dataframe to check if need be\n",
    "# df_GDP_cc3\n",
    "# df_water_cc3\n",
    "# df_disorder_cc3"
   ]
  },
  {
   "cell_type": "markdown",
   "metadata": {},
   "source": [
    "#### Combining all the variables into one dataframe"
   ]
  },
  {
   "cell_type": "code",
   "execution_count": 1424,
   "metadata": {},
   "outputs": [],
   "source": [
    "# add country and Y ratio column\n",
    "dfyears_combined_model3 = df_y_ratio_3.loc[:, [\"Country\", \"y_ratio\"]]\n",
    "# add GDP column\n",
    "dfyears_combined_model3[\"GDP\"] = df_GDP_cc3.loc[:, \"GDP\"]\n",
    "# add percent basic water service column\n",
    "dfyears_combined_model3[\"Basic_water\"] = df_water_cc3.loc[:, \"Basic_water\"]\n",
    "# add percent eating disorder column\n",
    "dfyears_combined_model3[\"Eating_disorder\"] = df_disorder_cc3.loc[:, \"Eating_disorder\"]\n",
    "# add percent employed in agriculture column\n",
    "dfyears_combined_model3[\"Employed_%\"] = df_percent_employed_3.loc[:, \"Employed_%\"]\n",
    "# add fat supplied column\n",
    "dfyears_combined_model3[\"Fat\"] = df_carb_cc3.loc[:, \"Fat\"]\n",
    "# add protein supplied column\n",
    "dfyears_combined_model3[\"Protein\"] = df_carb_cc3.loc[:, \"Protein\"]\n",
    "# add carbohydrate supplied column\n",
    "dfyears_combined_model3[\"Carbohydrate\"] = df_carb_cc3.loc[:, \"Carbohydrate\"]\n",
    "# add specified year in the first column\n",
    "dfyears_combined_model3.insert(0, \"Year\", get_year)\n",
    "# set index from 0\n",
    "dfyears_combined_model3 = dfyears_combined_model3.reset_index(drop=True)\n",
    "# print dataframe\n",
    "## dfyears_combined_model3\n",
    "\n",
    "# export dataframe\n",
    "# dfyears_combined_model3.to_csv(f\"df{get_year}_combined_model3.csv\")"
   ]
  },
  {
   "cell_type": "markdown",
   "metadata": {},
   "source": [
    "#### Combining the dataframes for years 2013 to 2017 into one dataframe\n",
    "\n",
    "- Year 2013, 2014, 2015, 2016, 2017 was done on seperate occassions and exported to one csv file for each year."
   ]
  },
  {
   "cell_type": "code",
   "execution_count": 1425,
   "metadata": {},
   "outputs": [],
   "source": [
    "# read the csv for each year\n",
    "df2013_combined_model3 = pd.read_csv(\"df2013_combined_model3.csv\")\n",
    "df2014_combined_model3 = pd.read_csv(\"df2014_combined_model3.csv\")\n",
    "df2015_combined_model3 = pd.read_csv(\"df2015_combined_model3.csv\")\n",
    "df2016_combined_model3 = pd.read_csv(\"df2016_combined_model3.csv\")\n",
    "df2017_combined_model3 = pd.read_csv(\"df2017_combined_model3.csv\")"
   ]
  },
  {
   "cell_type": "code",
   "execution_count": 1426,
   "metadata": {},
   "outputs": [],
   "source": [
    "# combine all five dataframes into one\n",
    "dfallyears_combined_3 = pd.concat([df2013_combined_model3, df2014_combined_model3, df2015_combined_model3, df2016_combined_model3, df2017_combined_model3])\n",
    "# drop the extra column caused due to concat function\n",
    "dfallyears_combined_3 = dfallyears_combined_3.drop(columns = \"Unnamed: 0\")\n",
    "# set index from 0\n",
    "dfallyears_combined_3 = dfallyears_combined_3.reset_index(drop=True)\n",
    "# print dataframe\n",
    "## dfallyears_combined_3\n",
    "\n",
    "# export dataframe\n",
    "# dfallyears_combined.to_csv(\"dfallyears_combined_model3.csv\")\n",
    "## dfallyears_combined_3"
   ]
  },
  {
   "cell_type": "markdown",
   "metadata": {},
   "source": [
    "#### List of countries left after removal of countries with outliers\n",
    "\n",
    "Calls function _identify_upper_lower_ defined in model 1 that returns upper and lower limit"
   ]
  },
  {
   "cell_type": "code",
   "execution_count": 1427,
   "metadata": {},
   "outputs": [],
   "source": [
    "# identifier limit for each factor\n",
    "GDP_limit = identify_upper_lower(dfallyears_combined_3, \"GDP\")\n",
    "Water_limit = identify_upper_lower(dfallyears_combined_3, \"Basic_water\")\n",
    "Eating_limit = identify_upper_lower(dfallyears_combined_3, \"Eating_disorder\")\n",
    "Employed_limit = identify_upper_lower(dfallyears_combined_3, \"Employed_%\")\n",
    "Fat_limit = identify_upper_lower(dfallyears_combined_3, \"Fat\")\n",
    "Protein_limit = identify_upper_lower(dfallyears_combined_3, \"Protein\")\n",
    "Carbohydrate_limit = identify_upper_lower(dfallyears_combined_3, \"Carbohydrate\")\n",
    "\n",
    "# removal of rows with outliers\n",
    "dfall_clean_3 = dfallyears_combined_3.copy()\n",
    "# remove GDP outlier\n",
    "dfall_clean_3 = dfall_clean_3.loc[(dfall_clean_3[\"GDP\"] <= GDP_limit[0]) & (dfall_clean_3[\"GDP\"] >= GDP_limit[1]), :]\n",
    "# remove basic water outlier\n",
    "dfall_clean_3 = dfall_clean_3.loc[(dfall_clean_3[\"Basic_water\"] <= Water_limit[0]) & (dfall_clean_3[\"Basic_water\"] >= Water_limit[1]), :]\n",
    "# remove eating disorder outlier\n",
    "dfall_clean_3 = dfall_clean_3.loc[(dfall_clean_3[\"Eating_disorder\"] <= Eating_limit[0]) & (dfall_clean_3[\"Eating_disorder\"] >= Eating_limit[1]), :]\n",
    "# remove percentage employed outlier\n",
    "dfall_clean_3 = dfall_clean_3.loc[(dfall_clean_3[\"Employed_%\"] <= Employed_limit[0]) & (dfall_clean_3[\"Employed_%\"] >= Employed_limit[1]), :]\n",
    "# remove fat outlier\n",
    "dfall_clean_3 = dfall_clean_3.loc[(dfall_clean_3[\"Fat\"] <= Fat_limit[0]) & (dfall_clean_3[\"Fat\"] >= Fat_limit[1]), :]\n",
    "# remove protein outlier\n",
    "dfall_clean_3 = dfall_clean_3.loc[(dfall_clean_3[\"Protein\"] <= Protein_limit[0]) & (dfall_clean_3[\"Protein\"] >= Protein_limit[1]), :]\n",
    "# remove carbohydrate outlier\n",
    "dfall_clean_3 = dfall_clean_3.loc[(dfall_clean_3[\"Carbohydrate\"] <= Carbohydrate_limit[0]) & (dfall_clean_3[\"Carbohydrate\"] >= Carbohydrate_limit[1]), :]\n",
    "# set index from 0\n",
    "dfall_clean_3 = dfall_clean_3.reset_index(drop=True)\n",
    "# print dataframe\n",
    "## dfall_clean_3"
   ]
  },
  {
   "cell_type": "markdown",
   "metadata": {},
   "source": [
    "#### Standardization\n",
    "\n",
    "Calls function _normalize_z_ defined in model 1."
   ]
  },
  {
   "cell_type": "code",
   "execution_count": 1428,
   "metadata": {},
   "outputs": [],
   "source": [
    "dfall_normalized_3 = dfall_clean_3.copy()\n",
    "# standardize GDP\n",
    "dfall_normalized_3[\"GDP_normalized\"] = normalize_z(dfall_normalized_3[\"GDP\"])\n",
    "# standardize basic water service\n",
    "dfall_normalized_3[\"Basic_water_normalized\"] = normalize_z(dfall_normalized_3[\"Basic_water\"])\n",
    "# standardize eating disorder\n",
    "dfall_normalized_3[\"Eating_disorder_normalized\"] = normalize_z(dfall_normalized_3[\"Eating_disorder\"])\n",
    "# standardize percentage employed\n",
    "dfall_normalized_3[\"Employed_%_normalized\"] = normalize_z(dfall_normalized_3[\"Employed_%\"])\n",
    "# standardize fat supplied\n",
    "dfall_normalized_3[\"Fat_normalized\"] = normalize_z(dfall_normalized_3[\"Fat\"])\n",
    "# standardize protein supplied\n",
    "dfall_normalized_3[\"Protein_normalized\"] = normalize_z(dfall_normalized_3[\"Protein\"])\n",
    "# standardize carbohydrate supplied\n",
    "dfall_normalized_3[\"Carbohydrate_normalized\"] = normalize_z(dfall_normalized_3[\"Carbohydrate\"])\n",
    "# dfall_normalized_3.to_csv(\"dfallyears_normalized_model3.csv\")\n",
    "## dfall_normalized_3"
   ]
  },
  {
   "cell_type": "markdown",
   "metadata": {},
   "source": [
    "### Justifying the addition of the new features using correlation of the $3^{rd}$ model using MAE"
   ]
  },
  {
   "cell_type": "code",
   "execution_count": 1429,
   "metadata": {},
   "outputs": [
    {
     "name": "stdout",
     "output_type": "stream",
     "text": [
      "MAE Data\n",
      "\n",
      "\tGDP_normalized: 644.5699300325963\n",
      "\n",
      "\tBasic_water_normalized: 619.3736953831456\n",
      "\n",
      "\tEating_disorder_normalized: 642.5923852332563\n",
      "\n",
      "\tEmployed_%_normalized: 660.5119094150526\n",
      "\n",
      "\tFat_normalized: 626.4907090466677\n",
      "\n",
      "\tProtein_normalized: 635.050640886055\n",
      "\n",
      "\tCarbohydrate_normalized: 643.6756325982291\n",
      "\n"
     ]
    }
   ],
   "source": [
    "features = [\"GDP_normalized\",\"Basic_water_normalized\",\"Eating_disorder_normalized\",\"Employed_%_normalized\",\"Fat_normalized\",\"Protein_normalized\",\"Carbohydrate_normalized\"]\n",
    "target = ['y_ratio']\n",
    "\n",
    "print(\"MAE Data\\n\")\n",
    "for feature in features:\n",
    "    mae = mean_absolute_error(dfall_normalized_3,feature,target)\n",
    "    print(f\"\\t{feature}: {mae}\\n\")"
   ]
  },
  {
   "cell_type": "markdown",
   "metadata": {},
   "source": [
    "- Since we have deemed that the first 4 features listed above show a good correlation with the `y_ratio`, and with the added features of `Fat_normalized`, `Protein_normalized` and `Carbohydrate_normalized` having a MAE that is less than the highest MAE of the first 4 features, we have decided to keep the added features."
   ]
  },
  {
   "cell_type": "markdown",
   "metadata": {},
   "source": [
    "### Repeating Steps to train $3^{rd}$ Model"
   ]
  },
  {
   "cell_type": "code",
   "execution_count": 1431,
   "metadata": {},
   "outputs": [
    {
     "data": {
      "text/html": [
       "<div>\n",
       "<style scoped>\n",
       "    .dataframe tbody tr th:only-of-type {\n",
       "        vertical-align: middle;\n",
       "    }\n",
       "\n",
       "    .dataframe tbody tr th {\n",
       "        vertical-align: top;\n",
       "    }\n",
       "\n",
       "    .dataframe thead th {\n",
       "        text-align: right;\n",
       "    }\n",
       "</style>\n",
       "<table border=\"1\" class=\"dataframe\">\n",
       "  <thead>\n",
       "    <tr style=\"text-align: right;\">\n",
       "      <th></th>\n",
       "      <th>GDP_normalized</th>\n",
       "      <th>Basic_water_normalized</th>\n",
       "      <th>Eating_disorder_normalized</th>\n",
       "      <th>Employed_%_normalized</th>\n",
       "      <th>Fat_normalized</th>\n",
       "      <th>Protein_normalized</th>\n",
       "      <th>Carbohydrate_normalized</th>\n",
       "    </tr>\n",
       "  </thead>\n",
       "  <tbody>\n",
       "    <tr>\n",
       "      <th>count</th>\n",
       "      <td>3.760000e+02</td>\n",
       "      <td>3.760000e+02</td>\n",
       "      <td>3.760000e+02</td>\n",
       "      <td>3.760000e+02</td>\n",
       "      <td>3.760000e+02</td>\n",
       "      <td>3.760000e+02</td>\n",
       "      <td>3.760000e+02</td>\n",
       "    </tr>\n",
       "    <tr>\n",
       "      <th>mean</th>\n",
       "      <td>-1.700767e-16</td>\n",
       "      <td>3.751137e-15</td>\n",
       "      <td>-2.503907e-16</td>\n",
       "      <td>-2.055094e-16</td>\n",
       "      <td>2.763747e-16</td>\n",
       "      <td>7.240071e-16</td>\n",
       "      <td>7.665263e-16</td>\n",
       "    </tr>\n",
       "    <tr>\n",
       "      <th>std</th>\n",
       "      <td>1.000000e+00</td>\n",
       "      <td>1.000000e+00</td>\n",
       "      <td>1.000000e+00</td>\n",
       "      <td>1.000000e+00</td>\n",
       "      <td>1.000000e+00</td>\n",
       "      <td>1.000000e+00</td>\n",
       "      <td>1.000000e+00</td>\n",
       "    </tr>\n",
       "    <tr>\n",
       "      <th>min</th>\n",
       "      <td>-1.366308e+00</td>\n",
       "      <td>-3.150206e+00</td>\n",
       "      <td>-1.226600e+00</td>\n",
       "      <td>-1.097637e+00</td>\n",
       "      <td>-2.443745e+00</td>\n",
       "      <td>-1.958267e+00</td>\n",
       "      <td>-2.522038e+00</td>\n",
       "    </tr>\n",
       "    <tr>\n",
       "      <th>25%</th>\n",
       "      <td>-8.410209e-01</td>\n",
       "      <td>-5.921992e-01</td>\n",
       "      <td>-7.785828e-01</td>\n",
       "      <td>-7.933169e-01</td>\n",
       "      <td>-6.745382e-01</td>\n",
       "      <td>-6.908960e-01</td>\n",
       "      <td>-6.489563e-01</td>\n",
       "    </tr>\n",
       "    <tr>\n",
       "      <th>50%</th>\n",
       "      <td>-2.364866e-01</td>\n",
       "      <td>6.186443e-01</td>\n",
       "      <td>-3.945682e-01</td>\n",
       "      <td>-2.934817e-01</td>\n",
       "      <td>-1.554105e-01</td>\n",
       "      <td>-8.902793e-03</td>\n",
       "      <td>-1.258199e-01</td>\n",
       "    </tr>\n",
       "    <tr>\n",
       "      <th>75%</th>\n",
       "      <td>7.296495e-01</td>\n",
       "      <td>7.309079e-01</td>\n",
       "      <td>9.014811e-01</td>\n",
       "      <td>4.788368e-01</td>\n",
       "      <td>8.491457e-01</td>\n",
       "      <td>7.910184e-01</td>\n",
       "      <td>5.980194e-01</td>\n",
       "    </tr>\n",
       "    <tr>\n",
       "      <th>max</th>\n",
       "      <td>2.768003e+00</td>\n",
       "      <td>7.309079e-01</td>\n",
       "      <td>2.485541e+00</td>\n",
       "      <td>3.358875e+00</td>\n",
       "      <td>2.004546e+00</td>\n",
       "      <td>3.003234e+00</td>\n",
       "      <td>2.581051e+00</td>\n",
       "    </tr>\n",
       "  </tbody>\n",
       "</table>\n",
       "</div>"
      ],
      "text/plain": [
       "       GDP_normalized  Basic_water_normalized  Eating_disorder_normalized  \\\n",
       "count    3.760000e+02            3.760000e+02                3.760000e+02   \n",
       "mean    -1.700767e-16            3.751137e-15               -2.503907e-16   \n",
       "std      1.000000e+00            1.000000e+00                1.000000e+00   \n",
       "min     -1.366308e+00           -3.150206e+00               -1.226600e+00   \n",
       "25%     -8.410209e-01           -5.921992e-01               -7.785828e-01   \n",
       "50%     -2.364866e-01            6.186443e-01               -3.945682e-01   \n",
       "75%      7.296495e-01            7.309079e-01                9.014811e-01   \n",
       "max      2.768003e+00            7.309079e-01                2.485541e+00   \n",
       "\n",
       "       Employed_%_normalized  Fat_normalized  Protein_normalized  \\\n",
       "count           3.760000e+02    3.760000e+02        3.760000e+02   \n",
       "mean           -2.055094e-16    2.763747e-16        7.240071e-16   \n",
       "std             1.000000e+00    1.000000e+00        1.000000e+00   \n",
       "min            -1.097637e+00   -2.443745e+00       -1.958267e+00   \n",
       "25%            -7.933169e-01   -6.745382e-01       -6.908960e-01   \n",
       "50%            -2.934817e-01   -1.554105e-01       -8.902793e-03   \n",
       "75%             4.788368e-01    8.491457e-01        7.910184e-01   \n",
       "max             3.358875e+00    2.004546e+00        3.003234e+00   \n",
       "\n",
       "       Carbohydrate_normalized  \n",
       "count             3.760000e+02  \n",
       "mean              7.665263e-16  \n",
       "std               1.000000e+00  \n",
       "min              -2.522038e+00  \n",
       "25%              -6.489563e-01  \n",
       "50%              -1.258199e-01  \n",
       "75%               5.980194e-01  \n",
       "max               2.581051e+00  "
      ]
     },
     "metadata": {},
     "output_type": "display_data"
    },
    {
     "data": {
      "text/html": [
       "<div>\n",
       "<style scoped>\n",
       "    .dataframe tbody tr th:only-of-type {\n",
       "        vertical-align: middle;\n",
       "    }\n",
       "\n",
       "    .dataframe tbody tr th {\n",
       "        vertical-align: top;\n",
       "    }\n",
       "\n",
       "    .dataframe thead th {\n",
       "        text-align: right;\n",
       "    }\n",
       "</style>\n",
       "<table border=\"1\" class=\"dataframe\">\n",
       "  <thead>\n",
       "    <tr style=\"text-align: right;\">\n",
       "      <th></th>\n",
       "      <th>y_ratio</th>\n",
       "    </tr>\n",
       "  </thead>\n",
       "  <tbody>\n",
       "    <tr>\n",
       "      <th>count</th>\n",
       "      <td>376.000000</td>\n",
       "    </tr>\n",
       "    <tr>\n",
       "      <th>mean</th>\n",
       "      <td>1.647270</td>\n",
       "    </tr>\n",
       "    <tr>\n",
       "      <th>std</th>\n",
       "      <td>0.141525</td>\n",
       "    </tr>\n",
       "    <tr>\n",
       "      <th>min</th>\n",
       "      <td>1.382235</td>\n",
       "    </tr>\n",
       "    <tr>\n",
       "      <th>25%</th>\n",
       "      <td>1.521701</td>\n",
       "    </tr>\n",
       "    <tr>\n",
       "      <th>50%</th>\n",
       "      <td>1.647211</td>\n",
       "    </tr>\n",
       "    <tr>\n",
       "      <th>75%</th>\n",
       "      <td>1.750075</td>\n",
       "    </tr>\n",
       "    <tr>\n",
       "      <th>max</th>\n",
       "      <td>2.008989</td>\n",
       "    </tr>\n",
       "  </tbody>\n",
       "</table>\n",
       "</div>"
      ],
      "text/plain": [
       "          y_ratio\n",
       "count  376.000000\n",
       "mean     1.647270\n",
       "std      0.141525\n",
       "min      1.382235\n",
       "25%      1.521701\n",
       "50%      1.647211\n",
       "75%      1.750075\n",
       "max      2.008989"
      ]
     },
     "metadata": {},
     "output_type": "display_data"
    }
   ],
   "source": [
    "features = [\"GDP_normalized\",\"Basic_water_normalized\",\"Eating_disorder_normalized\",\"Employed_%_normalized\",\"Fat_normalized\",\"Protein_normalized\",\"Carbohydrate_normalized\"]\n",
    "target = [\"y_ratio\"]\n",
    "dfallyears_feature_model3 , dfallyears_target_model3 = get_features_targets(dfall_normalized_3,features,target)\n",
    "# # df2017_feature is already normalised\n",
    "# # df2017_target was not normalised above\n",
    "display(dfallyears_feature_model3.describe())\n",
    "display(dfallyears_target_model3.describe())"
   ]
  },
  {
   "cell_type": "code",
   "execution_count": 1432,
   "metadata": {},
   "outputs": [
    {
     "name": "stderr",
     "output_type": "stream",
     "text": [
      "/var/folders/2b/1n3vmx9n6xj9kyxht8yl9bl80000gn/T/ipykernel_97642/730328389.py:33: FutureWarning: Passing a set as an indexer is deprecated and will raise in a future version. Use a list instead.\n",
      "  df_feature_train = df_feature.loc[train_index,:]\n",
      "/var/folders/2b/1n3vmx9n6xj9kyxht8yl9bl80000gn/T/ipykernel_97642/730328389.py:34: FutureWarning: Passing a set as an indexer is deprecated and will raise in a future version. Use a list instead.\n",
      "  df_feature_test = df_feature.loc[test_index,:]\n",
      "/var/folders/2b/1n3vmx9n6xj9kyxht8yl9bl80000gn/T/ipykernel_97642/730328389.py:36: FutureWarning: Passing a set as an indexer is deprecated and will raise in a future version. Use a list instead.\n",
      "  df_target_train = df_target.loc[train_index,:]\n",
      "/var/folders/2b/1n3vmx9n6xj9kyxht8yl9bl80000gn/T/ipykernel_97642/730328389.py:37: FutureWarning: Passing a set as an indexer is deprecated and will raise in a future version. Use a list instead.\n",
      "  df_target_test = df_target.loc[test_index,:]\n",
      "/var/folders/2b/1n3vmx9n6xj9kyxht8yl9bl80000gn/T/ipykernel_97642/730328389.py:33: FutureWarning: Passing a set as an indexer is deprecated and will raise in a future version. Use a list instead.\n",
      "  df_feature_train = df_feature.loc[train_index,:]\n",
      "/var/folders/2b/1n3vmx9n6xj9kyxht8yl9bl80000gn/T/ipykernel_97642/730328389.py:34: FutureWarning: Passing a set as an indexer is deprecated and will raise in a future version. Use a list instead.\n",
      "  df_feature_test = df_feature.loc[test_index,:]\n",
      "/var/folders/2b/1n3vmx9n6xj9kyxht8yl9bl80000gn/T/ipykernel_97642/730328389.py:36: FutureWarning: Passing a set as an indexer is deprecated and will raise in a future version. Use a list instead.\n",
      "  df_target_train = df_target.loc[train_index,:]\n",
      "/var/folders/2b/1n3vmx9n6xj9kyxht8yl9bl80000gn/T/ipykernel_97642/730328389.py:37: FutureWarning: Passing a set as an indexer is deprecated and will raise in a future version. Use a list instead.\n",
      "  df_target_test = df_target.loc[test_index,:]\n"
     ]
    }
   ],
   "source": [
    "dfallyears_feature_train_model3 , dfallyears_feature_test_model3 ,dfallyears_target_train_model3 , dfallyears_target_test_model3 = split_data(dfallyears_feature_model3,dfallyears_target_model3,test_size=0.3)\n",
    "dfallyears_feature_train_model3 , dfallyears_feature_val_model3 , dfallyears_target_train_model3 , dfallyears_target_val_model3 = split_data(dfallyears_feature_train_model3,dfallyears_target_train_model3,test_size=0.3)"
   ]
  },
  {
   "cell_type": "code",
   "execution_count": 1433,
   "metadata": {},
   "outputs": [
    {
     "name": "stdout",
     "output_type": "stream",
     "text": [
      "[[1.36113447]]\n",
      "[[5.96680042]]\n"
     ]
    }
   ],
   "source": [
    "X = prepare_feature(dfallyears_feature_train_model3)\n",
    "target = prepare_target(dfallyears_target_train_model3)\n",
    "\n",
    "beta = np.zeros((8,1))\n",
    "J = compute_cost(X,target,beta)\n",
    "print(J)\n",
    "\n",
    "beta = np.ones((8,1))\n",
    "J = compute_cost(X, target, beta)\n",
    "print(J)"
   ]
  },
  {
   "cell_type": "code",
   "execution_count": 1441,
   "metadata": {},
   "outputs": [
    {
     "name": "stdout",
     "output_type": "stream",
     "text": [
      "[[ 1.64854444]\n",
      " [-0.02030515]\n",
      " [-0.01567083]\n",
      " [ 0.01101713]\n",
      " [-0.00264773]\n",
      " [ 0.11344508]\n",
      " [ 0.0455391 ]\n",
      " [ 0.07855615]]\n"
     ]
    }
   ],
   "source": [
    "iterations = 1500 # arbitrary value\n",
    "alpha = 0.01 # arbitrary value\n",
    "beta = np.zeros((8,1))\n",
    "\n",
    "beta , J_storage = gradient_descent(X,target,beta,alpha,iterations)\n",
    "print(beta)"
   ]
  },
  {
   "cell_type": "code",
   "execution_count": 1449,
   "metadata": {},
   "outputs": [
    {
     "data": {
      "text/plain": [
       "[<matplotlib.lines.Line2D at 0x7fc5f87055e0>]"
      ]
     },
     "execution_count": 1449,
     "metadata": {},
     "output_type": "execute_result"
    },
    {
     "data": {
      "image/png": "[encoded data removed]",
      "text/plain": [
       "<Figure size 432x288 with 1 Axes>"
      ]
     },
     "metadata": {
      "needs_background": "light"
     },
     "output_type": "display_data"
    }
   ],
   "source": [
    "plt.plot(J_storage)"
   ]
  },
  {
   "cell_type": "code",
   "execution_count": 1457,
   "metadata": {},
   "outputs": [],
   "source": [
    "pred = predict(dfallyears_feature_test_model3,beta)"
   ]
  },
  {
   "cell_type": "code",
   "execution_count": 1458,
   "metadata": {},
   "outputs": [
    {
     "data": {
      "text/plain": [
       "<matplotlib.collections.PathCollection at 0x7fc64afded90>"
      ]
     },
     "execution_count": 1458,
     "metadata": {},
     "output_type": "execute_result"
    },
    {
     "data": {
      "image/png": "[encoded data removed]",
      "text/plain": [
       "<Figure size 432x288 with 1 Axes>"
      ]
     },
     "metadata": {
      "needs_background": "light"
     },
     "output_type": "display_data"
    }
   ],
   "source": [
    "plt.scatter(dfallyears_feature_test_model3[\"GDP_normalized\"],dfallyears_target_test_model3)\n",
    "plt.scatter(dfallyears_feature_test_model3[\"GDP_normalized\"],pred)"
   ]
  },
  {
   "cell_type": "code",
   "execution_count": 1466,
   "metadata": {},
   "outputs": [
    {
     "data": {
      "text/plain": [
       "<matplotlib.collections.PathCollection at 0x7fc5f80a35e0>"
      ]
     },
     "execution_count": 1466,
     "metadata": {},
     "output_type": "execute_result"
    },
    {
     "data": {
      "image/png": "[encoded data removed]",
      "text/plain": [
       "<Figure size 432x288 with 1 Axes>"
      ]
     },
     "metadata": {
      "needs_background": "light"
     },
     "output_type": "display_data"
    }
   ],
   "source": [
    "plt.scatter(dfallyears_feature_test_model3[\"Basic_water_normalized\"],dfallyears_target_test_model3)\n",
    "plt.scatter(dfallyears_feature_test_model3[\"Basic_water_normalized\"],pred)"
   ]
  },
  {
   "cell_type": "code",
   "execution_count": 1467,
   "metadata": {},
   "outputs": [
    {
     "data": {
      "text/plain": [
       "<matplotlib.collections.PathCollection at 0x7fc60a0c2a00>"
      ]
     },
     "execution_count": 1467,
     "metadata": {},
     "output_type": "execute_result"
    },
    {
     "data": {
      "image/png": "[encoded data removed]",
      "text/plain": [
       "<Figure size 432x288 with 1 Axes>"
      ]
     },
     "metadata": {
      "needs_background": "light"
     },
     "output_type": "display_data"
    }
   ],
   "source": [
    "plt.scatter(dfallyears_feature_test_model3[\"Eating_disorder_normalized\"],dfallyears_target_test_model3)\n",
    "plt.scatter(dfallyears_feature_test_model3[\"Eating_disorder_normalized\"],pred)"
   ]
  },
  {
   "cell_type": "code",
   "execution_count": 1468,
   "metadata": {},
   "outputs": [
    {
     "data": {
      "text/plain": [
       "<matplotlib.collections.PathCollection at 0x7fc60a106e20>"
      ]
     },
     "execution_count": 1468,
     "metadata": {},
     "output_type": "execute_result"
    },
    {
     "data": {
      "image/png": "[encoded data removed]",
      "text/plain": [
       "<Figure size 432x288 with 1 Axes>"
      ]
     },
     "metadata": {
      "needs_background": "light"
     },
     "output_type": "display_data"
    }
   ],
   "source": [
    "plt.scatter(dfallyears_feature_test_model3[\"Employed_%_normalized\"],dfallyears_target_test_model3)\n",
    "plt.scatter(dfallyears_feature_test_model3[\"Employed_%_normalized\"],pred)"
   ]
  },
  {
   "cell_type": "code",
   "execution_count": 1469,
   "metadata": {},
   "outputs": [
    {
     "data": {
      "text/plain": [
       "<matplotlib.collections.PathCollection at 0x7fc5f87f3af0>"
      ]
     },
     "execution_count": 1469,
     "metadata": {},
     "output_type": "execute_result"
    },
    {
     "data": {
      "image/png": "[encoded data removed]",
      "text/plain": [
       "<Figure size 432x288 with 1 Axes>"
      ]
     },
     "metadata": {
      "needs_background": "light"
     },
     "output_type": "display_data"
    }
   ],
   "source": [
    "plt.scatter(dfallyears_feature_test_model3[\"Fat_normalized\"],dfallyears_target_test_model3)\n",
    "plt.scatter(dfallyears_feature_test_model3[\"Fat_normalized\"],pred)"
   ]
  },
  {
   "cell_type": "code",
   "execution_count": 1470,
   "metadata": {},
   "outputs": [
    {
     "data": {
      "text/plain": [
       "<matplotlib.collections.PathCollection at 0x7fc5f8869dc0>"
      ]
     },
     "execution_count": 1470,
     "metadata": {},
     "output_type": "execute_result"
    },
    {
     "data": {
      "image/png": "[encoded data removed]",
      "text/plain": [
       "<Figure size 432x288 with 1 Axes>"
      ]
     },
     "metadata": {
      "needs_background": "light"
     },
     "output_type": "display_data"
    }
   ],
   "source": [
    "plt.scatter(dfallyears_feature_test_model3[\"Protein_normalized\"],dfallyears_target_test_model3)\n",
    "plt.scatter(dfallyears_feature_test_model3[\"Protein_normalized\"],pred)"
   ]
  },
  {
   "cell_type": "code",
   "execution_count": 1471,
   "metadata": {},
   "outputs": [
    {
     "data": {
      "text/plain": [
       "<matplotlib.collections.PathCollection at 0x7fc6324032e0>"
      ]
     },
     "execution_count": 1471,
     "metadata": {},
     "output_type": "execute_result"
    },
    {
     "data": {
      "image/png": "[encoded data removed]",
      "text/plain": [
       "<Figure size 432x288 with 1 Axes>"
      ]
     },
     "metadata": {
      "needs_background": "light"
     },
     "output_type": "display_data"
    }
   ],
   "source": [
    "plt.scatter(dfallyears_feature_test_model3[\"Carbohydrate_normalized\"],dfallyears_target_test_model3)\n",
    "plt.scatter(dfallyears_feature_test_model3[\"Carbohydrate_normalized\"],pred)"
   ]
  },
  {
   "cell_type": "markdown",
   "metadata": {},
   "source": [
    "### Model Evaluation for Model 3 using MSE"
   ]
  },
  {
   "cell_type": "markdown",
   "metadata": {},
   "source": [
    "- Done with **Validation Set**"
   ]
  },
  {
   "cell_type": "code",
   "execution_count": 1479,
   "metadata": {},
   "outputs": [
    {
     "name": "stdout",
     "output_type": "stream",
     "text": [
      "MSE: 0.0013097934843455642\n"
     ]
    }
   ],
   "source": [
    "target = prepare_target(dfallyears_target_val_model3)\n",
    "pred = predict(dfallyears_feature_val_model3,beta)\n",
    "mse_3 = mean_squared_error(target,pred)\n",
    "print(f\"MSE: {mse_3}\")"
   ]
  },
  {
   "cell_type": "markdown",
   "metadata": {},
   "source": [
    "## Conclusion\n",
    "\n",
    "Discuss your model and accuracy in solving the problem. Analyze the results of your metrics. Put any conclusion here."
   ]
  }
 ],
 "metadata": {
  "kernelspec": {
   "display_name": "Python 3.8.8 ('base')",
   "language": "python",
   "name": "python3"
  },
  "language_info": {
   "codemirror_mode": {
    "name": "ipython",
    "version": 3
   },
   "file_extension": ".py",
   "mimetype": "text/x-python",
   "name": "python",
   "nbconvert_exporter": "python",
   "pygments_lexer": "ipython3",
   "version": "3.8.8"
  },
  "vscode": {
   "interpreter": {
    "hash": "48bf4398bdefcf32afc27bde38b30a243fa760418536954741c48fb9cb97684b"
   }
  }
 },
 "nbformat": 4,
 "nbformat_minor": 4
}
