{
 "cells": [
  {
   "cell_type": "markdown",
   "metadata": {
    "nbgrader": {
     "grade": false,
     "locked": true,
     "solution": false
    }
   },
   "source": [
    "# 2D Design Template"
   ]
  },
  {
   "cell_type": "markdown",
   "metadata": {
    "nbgrader": {
     "grade": false,
     "locked": true,
     "solution": false
    }
   },
   "source": [
    "# Overview\n",
    "\n",
    "The purpose of this project is for you to apply what you have learnt in this course. This includes working with data and visualizing it, create model of linear regression or logistic regression, as well as using metrics to measure the accuracy of your model. \n",
    "\n",
    "Please find the project handout description in the following link:\n",
    "- [DDW-MU-Humanities Handout](https://sutdapac-my.sharepoint.com/:w:/g/personal/franklin_anariba_sutd_edu_sg/ESlibHS4e3hDtOyWQ8noqdsBrC8UXO3wwMmTszX6vFIVVg?e=rjIslZ)\n",
    "- [DDW-MU-SocialStudies Handout](https://sutdapac-my.sharepoint.com/:w:/g/personal/franklin_anariba_sutd_edu_sg/EQ8CAm4PPupOlXqv9zTNkQYBpD_yGdwMWytBYpJTi9dzew?e=beEbac)\n"
   ]
  },
  {
   "cell_type": "markdown",
   "metadata": {
    "nbgrader": {
     "grade": false,
     "locked": true,
     "solution": false
    }
   },
   "source": [
    "## Deliverables\n",
    "\n",
    "You need to submit this Jupyter notebook together with the dataset into Vocareum. Use the template in this notebook to work on this project."
   ]
  },
  {
   "cell_type": "markdown",
   "metadata": {},
   "source": [
    "## Students Submission\n",
    "\n",
    "Student's Name:\n",
    "- Boey Sze Min, Jeanelle (1006037)\n",
    "- Joash Tan Jia Le (1005862)\n",
    "- Keith Chua Dian-Xun (1005880)\n",
    "- Wong Wei Jin Justin (1006001)"
   ]
  },
  {
   "cell_type": "markdown",
   "metadata": {},
   "source": [
    "### Overview About the Problem\n",
    "\n",
    "Describe here the problem you are trying to solve."
   ]
  },
  {
   "cell_type": "markdown",
   "metadata": {},
   "source": [
    "### Dataset\n",
    "\n",
    "Describe here your data set. Put the link to the sources of your dataset. Describe your data and what are the columns.\n",
    "\n",
    "Put some Python codes here to describe and visualize your data.\n",
    "\n",
    "We have obtained the following raw data for all the countries over a few years:\n",
    "1. GDP per capita, adjusted for PPP (USD):   \n",
    "   Link: https://data.worldbank.org/indicator/NY.GDP.PCAP.PP.CD   \n",
    "   CSV file name: \"DDW_GDP per capita adjusted.csv\"   \n",
    "\n",
    "2. Amount of agricultural land allocated per countries ($km^{2}$):   \n",
    "   Link: https://data.worldbank.org/indicator/AG.LND.AGRI.K2?name_desc=false    \n",
    "   CSV file name: \"DDW_Agricultural Land.csv\"   \n",
    "\n",
    "3. Percentage of population with access to basic drinking water (%):   \n",
    "   Link: https://www.kaggle.com/datasets/utkarshxy/who-worldhealth-statistics-2020-complete?select=basicDrinkingWaterServices.csv    \n",
    "   CSV file name: \"DDW_Basic Water Drinking Services.csv\"   \n",
    "\n",
    "4. $CO_{2}$ emitted in each country (million metric tonnes):   \n",
    "   Link: https://github.com/owid/co2-data   \n",
    "   CSV file name: \"DDW_CO2.csv\"   \n",
    "\n",
    "5. Percentage of population with eating disorder (%):    \n",
    "   Link: https://ourworldindata.org/grapher/share-with-an-eating-disorder    \n",
    "   CSV file name: \"DDW_Eating Disorder.csv\"   \n",
    "\n",
    "6. Number of people employed in agriculture, forestry and fisheries:   \n",
    "   Link: https://www.fao.org/faostat/en/#data/OEA    \n",
    "   CSV file name: \"DDW_Employment In Agriculture.csv\"   \n",
    "\n",
    "7. Population of each country:   \n",
    "   Link: https://github.com/owid/co2-data    \n",
    "   CSV file name: \"DDW_Population.csv\"   \n",
    "\n",
    "8. Daily calories supplied (kcal/capita day):   \n",
    "   Link: https://ourworldindata.org/food-supply   \n",
    "   CSV file name: \"DDW_Food Supply.csv\"   \n",
    "\n",
    "9. Minimum dietary calories requirement (kcal/capita day):   \n",
    "   Link: https://www.fao.org/faostat/en/#data/FS   \n",
    "   CSV file name: \"DDW_Min Cal Intake.csv\"   \n",
    "\n",
    "10. Fat supplied (g/capita day):   \n",
    "   Link: https://ourworldindata.org/food-supply   \n",
    "   CSV file name: \"DDW_Fat and Protein Supply.csv\"   \n",
    "\n",
    "11. Protein supplied (g/capita day):   \n",
    "   Link: https://ourworldindata.org/food-supply   \n",
    "   CSV file name: \"DDW_Fat and Protein Supply.csv\"   \n",
    "\n",
    "12. Percent of population malnourished:     \n",
    "   Link: https://ourworldindata.org/hunger-and-undernourishment#:~:text=across%20the%20world.-,Summary,million%20people%20globally%20are%20undernourished   \n",
    "   CSV file name: \"DDW_Prevalence of Undernourishment.csv\"   \n",
    "\n",
    "The code below extracts the relevant data from each file and processses it to match our 6 factors.\n",
    "\n",
    "For **model 1**, the 6 factors that we are using to predict food security are:\n",
    "1. GDP per capita, adjusted for PPP (USD)\n",
    "2. Agricultural land per capita ($km^{2}$ per capita)\n",
    "3. Percentage of population with basic water service (%)\n",
    "4. Percentage of population with eating disorder (%)\n",
    "5. Percentage of population employed in agriculture forestry fishery (%)\n",
    "6. $CO_{2}$ emitted per agricultural land area (kg/$m^{2}$)   \n",
    "\n",
    "For our dependent value we will be calculating whether the calorie supplied per capita per day is greater or less than the minimum calories required per capita per day, we will be naming this our _**Y Ratio**_.\n",
    "$$\n",
    " \\text{Y Ratio} = \\frac{\\text{Daily calories supplied (kcal/capita day)}}{\\text{Minimum calories required (kcal/capita day)}}\n",
    "$$\n",
    "\n",
    "If _Y ratio_ ${<}$ 1, we say that the daily calories supplied is not sufficient to meet the minimum calories required.   \n",
    "If _Y ratio_ ${>}$ 1, we say that the daily calories supplied is sufficient to meet the minimum calories required."
   ]
  },
  {
   "cell_type": "code",
   "execution_count": null,
   "metadata": {
    "collapsed": true,
    "jupyter": {
     "outputs_hidden": true
    }
   },
   "outputs": [],
   "source": [
    "# put Python code to read and describe your data"
   ]
  },
  {
   "cell_type": "markdown",
   "metadata": {},
   "source": [
    "### Features and Target Preparation\n",
    "\n",
    "Describe here what are the features you use and why these features. Put any Python codes to prepare and clean up your features. \n",
    "\n",
    "Do the same thing for the target. Describe your target and put any codes to prepare your target."
   ]
  },
  {
   "cell_type": "code",
   "execution_count": null,
   "metadata": {
    "collapsed": true,
    "jupyter": {
     "outputs_hidden": true
    }
   },
   "outputs": [],
   "source": [
    "# put Python code to prepare your featuers and target"
   ]
  },
  {
   "cell_type": "markdown",
   "metadata": {},
   "source": [
    "### Building Model\n",
    "\n",
    "Describe your model. Is this Linear Regression or Logistic Regression? Put any other details about the model. Put the codes to build your model."
   ]
  },
  {
   "cell_type": "code",
   "execution_count": 1,
   "metadata": {
    "collapsed": true,
    "jupyter": {
     "outputs_hidden": true
    }
   },
   "outputs": [],
   "source": [
    "# put Python code to build your model"
   ]
  },
  {
   "cell_type": "markdown",
   "metadata": {},
   "source": [
    "### Evaluating the Model\n",
    "\n",
    "Describe your metrics and how you want to evaluate your model. Put any Python code to evaluate your model. Use plots to have a visual evaluation."
   ]
  },
  {
   "cell_type": "code",
   "execution_count": null,
   "metadata": {
    "collapsed": true,
    "jupyter": {
     "outputs_hidden": true
    }
   },
   "outputs": [],
   "source": [
    "# put Python code to evaluate the model and to visualize its accuracy"
   ]
  },
  {
   "cell_type": "markdown",
   "metadata": {},
   "source": [
    "### Improving the Model\n",
    "\n",
    "Discuss any steps you can do to improve the models. Put any python codes. You can repeat the steps above with the codes to show the improvement in the accuracy. "
   ]
  },
  {
   "cell_type": "markdown",
   "metadata": {},
   "source": [
    "### Dataset for the improved Model\n",
    "\n",
    "Describe here your data set. Put the link to the sources of your dataset. Describe your data and what are the columns.\n",
    "\n",
    "Put some Python codes here to describe and visualize your data."
   ]
  },
  {
   "cell_type": "code",
   "execution_count": null,
   "metadata": {
    "collapsed": true,
    "jupyter": {
     "outputs_hidden": true
    }
   },
   "outputs": [],
   "source": [
    "# put Python code to read and describe your data"
   ]
  },
  {
   "cell_type": "markdown",
   "metadata": {},
   "source": [
    "### Features and Target Preparation for the improved Model\n",
    "\n",
    "Describe here what are the features you use and why these features. Put any Python codes to prepare and clean up your features. \n",
    "\n",
    "Do the same thing for the target. Describe your target and put any codes to prepare your target."
   ]
  },
  {
   "cell_type": "code",
   "execution_count": 2,
   "metadata": {
    "collapsed": true,
    "jupyter": {
     "outputs_hidden": true
    }
   },
   "outputs": [],
   "source": [
    "# put Python code to prepare your featuers and target"
   ]
  },
  {
   "cell_type": "markdown",
   "metadata": {},
   "source": [
    "### Building the improved Model\n",
    "\n",
    "Describe your model. Is this Linear Regression or Logistic Regression? Put any other details about the model. Put the codes to build your model."
   ]
  },
  {
   "cell_type": "code",
   "execution_count": null,
   "metadata": {
    "collapsed": true,
    "jupyter": {
     "outputs_hidden": true
    }
   },
   "outputs": [],
   "source": [
    "# put Python code to build your model"
   ]
  },
  {
   "cell_type": "markdown",
   "metadata": {},
   "source": [
    "### Evaluating the improved Model\n",
    "\n",
    "Describe your metrics and how you want to evaluate your model. Put any Python code to evaluate your model. Use plots to have a visual evaluation."
   ]
  },
  {
   "cell_type": "code",
   "execution_count": null,
   "metadata": {
    "collapsed": true,
    "jupyter": {
     "outputs_hidden": true
    }
   },
   "outputs": [],
   "source": [
    "# put Python code to evaluate the model and to visualize its accuracy"
   ]
  },
  {
   "cell_type": "markdown",
   "metadata": {},
   "source": [
    "### Discussion and Analysis\n",
    "\n",
    "Discuss your model and accuracy in solving the problem. Analyze the results of your metrics. Put any conclusion here."
   ]
  }
 ],
 "metadata": {
  "kernelspec": {
   "display_name": "Python 3.11.0 64-bit",
   "language": "python",
   "name": "python3"
  },
  "language_info": {
   "codemirror_mode": {
    "name": "ipython",
    "version": 3
   },
   "file_extension": ".py",
   "mimetype": "text/x-python",
   "name": "python",
   "nbconvert_exporter": "python",
   "pygments_lexer": "ipython3",
   "version": "3.11.0"
  },
  "vscode": {
   "interpreter": {
    "hash": "1de7e1334c2eab646fc37dc41a9a02c744c9e1c5a86a5acf499ce51c2e528bf5"
   }
  }
 },
 "nbformat": 4,
 "nbformat_minor": 4
}
